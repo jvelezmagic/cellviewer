{
 "cells": [
  {
   "cell_type": "markdown",
   "metadata": {},
   "source": [
    "## 1.0 Experiments clean raw data"
   ]
  },
  {
   "cell_type": "markdown",
   "metadata": {},
   "source": [
    "## Simple setup\n",
    "To use the `src` module inside of the notebooks:"
   ]
  },
  {
   "cell_type": "code",
   "execution_count": 1,
   "metadata": {},
   "outputs": [],
   "source": [
    "%load_ext autoreload\n",
    "%autoreload 2"
   ]
  },
  {
   "cell_type": "markdown",
   "metadata": {},
   "source": [
    "## Imports"
   ]
  },
  {
   "cell_type": "code",
   "execution_count": 2,
   "metadata": {},
   "outputs": [],
   "source": [
    "import janitor\n",
    "import src\n",
    "import pandas as pd"
   ]
  },
  {
   "cell_type": "markdown",
   "metadata": {},
   "source": [
    "## Load raw data"
   ]
  },
  {
   "cell_type": "markdown",
   "metadata": {},
   "source": [
    "### Identify zip files"
   ]
  },
  {
   "cell_type": "code",
   "execution_count": 3,
   "metadata": {},
   "outputs": [
    {
     "data": {
      "text/plain": [
       "dict_keys(['plasmid_lineages', 'chromosome_lineages'])"
      ]
     },
     "execution_count": 3,
     "metadata": {},
     "output_type": "execute_result"
    }
   ],
   "source": [
    "experiment_files = {\n",
    "    zip_file.stem: zip_file\n",
    "    for zip_file in src.data_raw_dir().glob(\"*.zip\")\n",
    "}\n",
    "\n",
    "experiment_files.keys()"
   ]
  },
  {
   "cell_type": "markdown",
   "metadata": {},
   "source": [
    "### Read experiments into a single Data Frame"
   ]
  },
  {
   "cell_type": "code",
   "execution_count": 4,
   "metadata": {},
   "outputs": [
    {
     "data": {
      "text/html": [
       "<div>\n",
       "<style scoped>\n",
       "    .dataframe tbody tr th:only-of-type {\n",
       "        vertical-align: middle;\n",
       "    }\n",
       "\n",
       "    .dataframe tbody tr th {\n",
       "        vertical-align: top;\n",
       "    }\n",
       "\n",
       "    .dataframe thead th {\n",
       "        text-align: right;\n",
       "    }\n",
       "</style>\n",
       "<table border=\"1\" class=\"dataframe\">\n",
       "  <thead>\n",
       "    <tr style=\"text-align: right;\">\n",
       "      <th></th>\n",
       "      <th>lineageID</th>\n",
       "      <th>trackID</th>\n",
       "      <th>cellID</th>\n",
       "      <th>motherID</th>\n",
       "      <th>frame</th>\n",
       "      <th>roiID</th>\n",
       "      <th>length</th>\n",
       "      <th>division</th>\n",
       "      <th>dead</th>\n",
       "      <th>GFP</th>\n",
       "      <th>DsRed</th>\n",
       "      <th>file_name_id</th>\n",
       "      <th>experiment_id</th>\n",
       "      <th>Unnamed: 0</th>\n",
       "    </tr>\n",
       "  </thead>\n",
       "  <tbody>\n",
       "    <tr>\n",
       "      <th>0</th>\n",
       "      <td>0.0</td>\n",
       "      <td>20.38-44.0</td>\n",
       "      <td>20.38</td>\n",
       "      <td>20.38</td>\n",
       "      <td>20.0</td>\n",
       "      <td>roi_f20_n38_x463_y290</td>\n",
       "      <td>28.071135</td>\n",
       "      <td>0.0</td>\n",
       "      <td>0.0</td>\n",
       "      <td>202.571</td>\n",
       "      <td>98.776</td>\n",
       "      <td>pBGT-AMP-Pulse_xy01_lineages_all.csv</td>\n",
       "      <td>plasmid_lineages</td>\n",
       "      <td>NaN</td>\n",
       "    </tr>\n",
       "    <tr>\n",
       "      <th>1</th>\n",
       "      <td>0.0</td>\n",
       "      <td>20.38-44.0</td>\n",
       "      <td>21.25</td>\n",
       "      <td>20.38</td>\n",
       "      <td>21.0</td>\n",
       "      <td>roi_f21_n25_x465_y290</td>\n",
       "      <td>27.384577</td>\n",
       "      <td>0.0</td>\n",
       "      <td>0.0</td>\n",
       "      <td>192.205</td>\n",
       "      <td>98.439</td>\n",
       "      <td>pBGT-AMP-Pulse_xy01_lineages_all.csv</td>\n",
       "      <td>plasmid_lineages</td>\n",
       "      <td>NaN</td>\n",
       "    </tr>\n",
       "    <tr>\n",
       "      <th>2</th>\n",
       "      <td>0.0</td>\n",
       "      <td>20.38-44.0</td>\n",
       "      <td>22.24</td>\n",
       "      <td>20.38</td>\n",
       "      <td>22.0</td>\n",
       "      <td>roi_f22_n24_x466_y290</td>\n",
       "      <td>27.714666</td>\n",
       "      <td>0.0</td>\n",
       "      <td>0.0</td>\n",
       "      <td>188.813</td>\n",
       "      <td>98.337</td>\n",
       "      <td>pBGT-AMP-Pulse_xy01_lineages_all.csv</td>\n",
       "      <td>plasmid_lineages</td>\n",
       "      <td>NaN</td>\n",
       "    </tr>\n",
       "    <tr>\n",
       "      <th>3</th>\n",
       "      <td>0.0</td>\n",
       "      <td>20.38-44.0</td>\n",
       "      <td>23.26</td>\n",
       "      <td>20.38</td>\n",
       "      <td>23.0</td>\n",
       "      <td>roi_f23_n26_x467_y291</td>\n",
       "      <td>28.855853</td>\n",
       "      <td>0.0</td>\n",
       "      <td>0.0</td>\n",
       "      <td>186.514</td>\n",
       "      <td>98.405</td>\n",
       "      <td>pBGT-AMP-Pulse_xy01_lineages_all.csv</td>\n",
       "      <td>plasmid_lineages</td>\n",
       "      <td>NaN</td>\n",
       "    </tr>\n",
       "    <tr>\n",
       "      <th>4</th>\n",
       "      <td>0.0</td>\n",
       "      <td>20.38-44.0</td>\n",
       "      <td>24.25</td>\n",
       "      <td>20.38</td>\n",
       "      <td>24.0</td>\n",
       "      <td>roi_f24_n25_x467_y291</td>\n",
       "      <td>29.005438</td>\n",
       "      <td>0.0</td>\n",
       "      <td>0.0</td>\n",
       "      <td>188.081</td>\n",
       "      <td>98.698</td>\n",
       "      <td>pBGT-AMP-Pulse_xy01_lineages_all.csv</td>\n",
       "      <td>plasmid_lineages</td>\n",
       "      <td>NaN</td>\n",
       "    </tr>\n",
       "  </tbody>\n",
       "</table>\n",
       "</div>"
      ],
      "text/plain": [
       "   lineageID     trackID  cellID  motherID  frame                  roiID  \\\n",
       "0        0.0  20.38-44.0   20.38     20.38   20.0  roi_f20_n38_x463_y290   \n",
       "1        0.0  20.38-44.0   21.25     20.38   21.0  roi_f21_n25_x465_y290   \n",
       "2        0.0  20.38-44.0   22.24     20.38   22.0  roi_f22_n24_x466_y290   \n",
       "3        0.0  20.38-44.0   23.26     20.38   23.0  roi_f23_n26_x467_y291   \n",
       "4        0.0  20.38-44.0   24.25     20.38   24.0  roi_f24_n25_x467_y291   \n",
       "\n",
       "      length  division  dead      GFP   DsRed  \\\n",
       "0  28.071135       0.0   0.0  202.571  98.776   \n",
       "1  27.384577       0.0   0.0  192.205  98.439   \n",
       "2  27.714666       0.0   0.0  188.813  98.337   \n",
       "3  28.855853       0.0   0.0  186.514  98.405   \n",
       "4  29.005438       0.0   0.0  188.081  98.698   \n",
       "\n",
       "                           file_name_id     experiment_id Unnamed: 0  \n",
       "0  pBGT-AMP-Pulse_xy01_lineages_all.csv  plasmid_lineages        NaN  \n",
       "1  pBGT-AMP-Pulse_xy01_lineages_all.csv  plasmid_lineages        NaN  \n",
       "2  pBGT-AMP-Pulse_xy01_lineages_all.csv  plasmid_lineages        NaN  \n",
       "3  pBGT-AMP-Pulse_xy01_lineages_all.csv  plasmid_lineages        NaN  \n",
       "4  pBGT-AMP-Pulse_xy01_lineages_all.csv  plasmid_lineages        NaN  "
      ]
     },
     "execution_count": 4,
     "metadata": {},
     "output_type": "execute_result"
    }
   ],
   "source": [
    "df = src.read_experiments(\n",
    "    experiment_files=experiment_files.values(),\n",
    "    experiment_ids=experiment_files.keys(),\n",
    "    encoding = \"latin\"\n",
    ")\n",
    "\n",
    "df.head()"
   ]
  },
  {
   "cell_type": "markdown",
   "metadata": {},
   "source": [
    "## Clean raw data"
   ]
  },
  {
   "cell_type": "code",
   "execution_count": 5,
   "metadata": {},
   "outputs": [
    {
     "data": {
      "text/html": [
       "<div>\n",
       "<style scoped>\n",
       "    .dataframe tbody tr th:only-of-type {\n",
       "        vertical-align: middle;\n",
       "    }\n",
       "\n",
       "    .dataframe tbody tr th {\n",
       "        vertical-align: top;\n",
       "    }\n",
       "\n",
       "    .dataframe thead th {\n",
       "        text-align: right;\n",
       "    }\n",
       "</style>\n",
       "<table border=\"1\" class=\"dataframe\">\n",
       "  <thead>\n",
       "    <tr style=\"text-align: right;\">\n",
       "      <th></th>\n",
       "      <th>lineage_id</th>\n",
       "      <th>track_id</th>\n",
       "      <th>cell_id</th>\n",
       "      <th>mother_id</th>\n",
       "      <th>frame</th>\n",
       "      <th>roi_id</th>\n",
       "      <th>length</th>\n",
       "      <th>division</th>\n",
       "      <th>dead</th>\n",
       "      <th>gfp</th>\n",
       "      <th>dsred</th>\n",
       "      <th>file_name_id</th>\n",
       "      <th>experiment_id</th>\n",
       "    </tr>\n",
       "  </thead>\n",
       "  <tbody>\n",
       "    <tr>\n",
       "      <th>0</th>\n",
       "      <td>0.0</td>\n",
       "      <td>10.8-34.0</td>\n",
       "      <td>10.8</td>\n",
       "      <td>10.8</td>\n",
       "      <td>0</td>\n",
       "      <td>roi_f10_n8_x129_y214</td>\n",
       "      <td>25.849682</td>\n",
       "      <td>0.0</td>\n",
       "      <td>0.0</td>\n",
       "      <td>120.110</td>\n",
       "      <td>108.394</td>\n",
       "      <td>MGGT-AMP-Pulse_xy01_lineages_all.csv</td>\n",
       "      <td>chromosome_lineages</td>\n",
       "    </tr>\n",
       "    <tr>\n",
       "      <th>1</th>\n",
       "      <td>0.0</td>\n",
       "      <td>10.8-34.0</td>\n",
       "      <td>11.6</td>\n",
       "      <td>10.8</td>\n",
       "      <td>1</td>\n",
       "      <td>roi_f11_n6_x126_y216</td>\n",
       "      <td>41.415207</td>\n",
       "      <td>1.0</td>\n",
       "      <td>0.0</td>\n",
       "      <td>120.289</td>\n",
       "      <td>108.422</td>\n",
       "      <td>MGGT-AMP-Pulse_xy01_lineages_all.csv</td>\n",
       "      <td>chromosome_lineages</td>\n",
       "    </tr>\n",
       "    <tr>\n",
       "      <th>2</th>\n",
       "      <td>0.0</td>\n",
       "      <td>10.8-34.0</td>\n",
       "      <td>12.8</td>\n",
       "      <td>10.8</td>\n",
       "      <td>2</td>\n",
       "      <td>roi_f12_n8_x122_y225</td>\n",
       "      <td>19.348009</td>\n",
       "      <td>0.0</td>\n",
       "      <td>0.0</td>\n",
       "      <td>119.765</td>\n",
       "      <td>107.959</td>\n",
       "      <td>MGGT-AMP-Pulse_xy01_lineages_all.csv</td>\n",
       "      <td>chromosome_lineages</td>\n",
       "    </tr>\n",
       "    <tr>\n",
       "      <th>3</th>\n",
       "      <td>0.0</td>\n",
       "      <td>10.8-34.0</td>\n",
       "      <td>13.8</td>\n",
       "      <td>10.8</td>\n",
       "      <td>3</td>\n",
       "      <td>roi_f13_n8_x124_y224</td>\n",
       "      <td>26.301427</td>\n",
       "      <td>0.0</td>\n",
       "      <td>0.0</td>\n",
       "      <td>119.771</td>\n",
       "      <td>108.061</td>\n",
       "      <td>MGGT-AMP-Pulse_xy01_lineages_all.csv</td>\n",
       "      <td>chromosome_lineages</td>\n",
       "    </tr>\n",
       "    <tr>\n",
       "      <th>4</th>\n",
       "      <td>0.0</td>\n",
       "      <td>10.8-34.0</td>\n",
       "      <td>14.5</td>\n",
       "      <td>10.8</td>\n",
       "      <td>4</td>\n",
       "      <td>roi_f14_n5_x124_y220</td>\n",
       "      <td>26.475045</td>\n",
       "      <td>0.0</td>\n",
       "      <td>0.0</td>\n",
       "      <td>119.718</td>\n",
       "      <td>107.977</td>\n",
       "      <td>MGGT-AMP-Pulse_xy01_lineages_all.csv</td>\n",
       "      <td>chromosome_lineages</td>\n",
       "    </tr>\n",
       "  </tbody>\n",
       "</table>\n",
       "</div>"
      ],
      "text/plain": [
       "   lineage_id   track_id  cell_id  mother_id  frame                roi_id  \\\n",
       "0         0.0  10.8-34.0     10.8       10.8      0  roi_f10_n8_x129_y214   \n",
       "1         0.0  10.8-34.0     11.6       10.8      1  roi_f11_n6_x126_y216   \n",
       "2         0.0  10.8-34.0     12.8       10.8      2  roi_f12_n8_x122_y225   \n",
       "3         0.0  10.8-34.0     13.8       10.8      3  roi_f13_n8_x124_y224   \n",
       "4         0.0  10.8-34.0     14.5       10.8      4  roi_f14_n5_x124_y220   \n",
       "\n",
       "      length  division  dead      gfp    dsred  \\\n",
       "0  25.849682       0.0   0.0  120.110  108.394   \n",
       "1  41.415207       1.0   0.0  120.289  108.422   \n",
       "2  19.348009       0.0   0.0  119.765  107.959   \n",
       "3  26.301427       0.0   0.0  119.771  108.061   \n",
       "4  26.475045       0.0   0.0  119.718  107.977   \n",
       "\n",
       "                           file_name_id        experiment_id  \n",
       "0  MGGT-AMP-Pulse_xy01_lineages_all.csv  chromosome_lineages  \n",
       "1  MGGT-AMP-Pulse_xy01_lineages_all.csv  chromosome_lineages  \n",
       "2  MGGT-AMP-Pulse_xy01_lineages_all.csv  chromosome_lineages  \n",
       "3  MGGT-AMP-Pulse_xy01_lineages_all.csv  chromosome_lineages  \n",
       "4  MGGT-AMP-Pulse_xy01_lineages_all.csv  chromosome_lineages  "
      ]
     },
     "execution_count": 5,
     "metadata": {},
     "output_type": "execute_result"
    }
   ],
   "source": [
    "df = (\n",
    "    df\n",
    "    .clean_experiment_names()\n",
    "    .remove_columns(column_names=\"unnamed_0\")\n",
    "    .center_frames(by=\"experiment_id\", frame_col=\"frame\")\n",
    ")\n",
    "df.head()"
   ]
  },
  {
   "cell_type": "markdown",
   "metadata": {},
   "source": [
    "## Save result"
   ]
  },
  {
   "cell_type": "code",
   "execution_count": 6,
   "metadata": {},
   "outputs": [],
   "source": [
    "df.to_csv(\n",
    "    path_or_buf=src.data_processed_dir(\"experiments_data.csv\"),\n",
    "    index=False\n",
    ")"
   ]
  }
 ],
 "metadata": {
  "kernelspec": {
   "display_name": "Python 3",
   "language": "python",
   "name": "python3"
  },
  "language_info": {
   "codemirror_mode": {
    "name": "ipython",
    "version": 3
   },
   "file_extension": ".py",
   "mimetype": "text/x-python",
   "name": "python",
   "nbconvert_exporter": "python",
   "pygments_lexer": "ipython3",
   "version": "3.9.1"
  }
 },
 "nbformat": 4,
 "nbformat_minor": 4
}
