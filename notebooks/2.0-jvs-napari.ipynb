{
 "metadata": {
  "language_info": {
   "codemirror_mode": {
    "name": "ipython",
    "version": 3
   },
   "file_extension": ".py",
   "mimetype": "text/x-python",
   "name": "python",
   "nbconvert_exporter": "python",
   "pygments_lexer": "ipython3",
   "version": "3.9.1"
  },
  "orig_nbformat": 2,
  "kernelspec": {
   "name": "python3",
   "display_name": "Python 3.9.1 64-bit ('cellviewer': conda)",
   "metadata": {
    "interpreter": {
     "hash": "908796f9dfa83e5ca6aeb3ab49d2cf89c7d7a9cb3d411a8df12acf29dfd5eee1"
    }
   }
  }
 },
 "nbformat": 4,
 "nbformat_minor": 2,
 "cells": [
  {
   "source": [
    "# 2.0 Napari"
   ],
   "cell_type": "markdown",
   "metadata": {}
  },
  {
   "source": [
    "## Simple setup"
   ],
   "cell_type": "markdown",
   "metadata": {}
  },
  {
   "source": [
    "To use the `src` module inside of the notebooks:"
   ],
   "cell_type": "markdown",
   "metadata": {}
  },
  {
   "cell_type": "code",
   "execution_count": 1,
   "metadata": {},
   "outputs": [],
   "source": [
    "%load_ext autoreload\n",
    "%autoreload 2"
   ]
  },
  {
   "source": [
    "## Imports"
   ],
   "cell_type": "markdown",
   "metadata": {}
  },
  {
   "cell_type": "code",
   "execution_count": 2,
   "metadata": {},
   "outputs": [],
   "source": [
    "import ast\n",
    "import napari\n",
    "import src # Load custom functions.\n",
    "import shapely\n",
    "import shapely.ops\n",
    "\n",
    "import pandas as pd\n",
    "import shapely.geometry as geometry\n",
    "\n",
    "from dask_image.imread import imread"
   ]
  },
  {
   "source": [
    "## Initalize an empty Napari Viewer"
   ],
   "cell_type": "markdown",
   "metadata": {}
  },
  {
   "cell_type": "code",
   "execution_count": 3,
   "metadata": {},
   "outputs": [],
   "source": [
    "%gui qt5\n",
    "viewer = napari.Viewer()"
   ]
  },
  {
   "source": [
    "## Display channels"
   ],
   "cell_type": "markdown",
   "metadata": {}
  },
  {
   "cell_type": "code",
   "execution_count": 4,
   "metadata": {},
   "outputs": [],
   "source": [
    "display_specification = dict(\n",
    "    # DIC = dict(colormap=\"gray\", visible=True, opacity=0.2),\n",
    "    DsRed = dict(colormap=\"red\"),\n",
    "    GFP = dict(colormap=\"green\")\n",
    ") "
   ]
  },
  {
   "cell_type": "code",
   "execution_count": 5,
   "metadata": {},
   "outputs": [
    {
     "output_type": "execute_result",
     "data": {
      "text/plain": [
       "{'DsRed': dask.array<_map_read_frame, shape=(25, 512, 640), dtype=uint16, chunksize=(1, 512, 640), chunktype=numpy.ndarray>,\n",
       " 'GFP': dask.array<_map_read_frame, shape=(25, 512, 640), dtype=uint16, chunksize=(1, 512, 640), chunktype=numpy.ndarray>}"
      ]
     },
     "metadata": {},
     "execution_count": 5
    }
   ],
   "source": [
    "channels_stacks = {\n",
    "    path.stem: imread(path.joinpath(\"*.tif\"))\n",
    "    for path in src.data_dir(\"sample\", \"tif\", \"xy02\").glob(\"*\")\n",
    "    if path.is_dir() and path.stem in display_specification\n",
    "}\n",
    "channels_stacks"
   ]
  },
  {
   "cell_type": "code",
   "execution_count": 6,
   "metadata": {},
   "outputs": [],
   "source": [
    "%gui qt5\n",
    "\n",
    "for name, stack in channels_stacks.items():\n",
    "     viewer.add_image(\n",
    "         stack, name=name,\n",
    "         blending=\"additive\",\n",
    "         contrast_limits=[0, 2000],\n",
    "         multiscale=False,\n",
    "         **display_specification[name]\n",
    "    )"
   ]
  },
  {
   "source": [
    "## Read and transform roi's pickle files."
   ],
   "cell_type": "markdown",
   "metadata": {}
  },
  {
   "cell_type": "code",
   "execution_count": 7,
   "metadata": {},
   "outputs": [
    {
     "output_type": "execute_result",
     "data": {
      "text/plain": [
       "   frame    id    color                roi_id track_id  \\\n",
       "0      0  20.0  #abcdcd  roi_f20_n0_x234_y409       []   \n",
       "\n",
       "                                         roi_polygon  \\\n",
       "0  POLYGON ((410 238, 410 239, 411 239, 411 240, ...   \n",
       "\n",
       "                                        center  \\\n",
       "0  POINT (233.6920667302324 410.6278959176846)   \n",
       "\n",
       "                                                axis    GFP   DsRed dead  \\\n",
       "0  LINESTRING (246.9999999999999 430.683093054870...  587.0  98.795    0   \n",
       "\n",
       "  previous_frame next_frame mother_id  \n",
       "0             []         []        []  "
      ],
      "text/html": "<div>\n<style scoped>\n    .dataframe tbody tr th:only-of-type {\n        vertical-align: middle;\n    }\n\n    .dataframe tbody tr th {\n        vertical-align: top;\n    }\n\n    .dataframe thead th {\n        text-align: right;\n    }\n</style>\n<table border=\"1\" class=\"dataframe\">\n  <thead>\n    <tr style=\"text-align: right;\">\n      <th></th>\n      <th>frame</th>\n      <th>id</th>\n      <th>color</th>\n      <th>roi_id</th>\n      <th>track_id</th>\n      <th>roi_polygon</th>\n      <th>center</th>\n      <th>axis</th>\n      <th>GFP</th>\n      <th>DsRed</th>\n      <th>dead</th>\n      <th>previous_frame</th>\n      <th>next_frame</th>\n      <th>mother_id</th>\n    </tr>\n  </thead>\n  <tbody>\n    <tr>\n      <th>0</th>\n      <td>0</td>\n      <td>20.0</td>\n      <td>#abcdcd</td>\n      <td>roi_f20_n0_x234_y409</td>\n      <td>[]</td>\n      <td>POLYGON ((410 238, 410 239, 411 239, 411 240, ...</td>\n      <td>POINT (233.6920667302324 410.6278959176846)</td>\n      <td>LINESTRING (246.9999999999999 430.683093054870...</td>\n      <td>587.0</td>\n      <td>98.795</td>\n      <td>0</td>\n      <td>[]</td>\n      <td>[]</td>\n      <td>[]</td>\n    </tr>\n  </tbody>\n</table>\n</div>"
     },
     "metadata": {},
     "execution_count": 7
    }
   ],
   "source": [
    "roi_files = sorted(\n",
    "    src.data_dir(\"sample\", \"data_cells_tracked\", \"xy02\", \"normData\").glob(\"*.pkl\")\n",
    ")\n",
    "\n",
    "tracked_cells_df = (\n",
    "    # Read pickle files into a single data frame.\n",
    "    pd.DataFrame(\n",
    "        dict(\n",
    "            list_str_cells = [pd.read_pickle(file) for file in roi_files]\n",
    "        )\n",
    "    )\n",
    "    # Each observation is a list of strings.\n",
    "    # Convertet to long format.\n",
    "    .explode(column=\"list_str_cells\")\n",
    "    # Each string is a set of variables delimited by tab.\n",
    "    .list_str_cells\n",
    "    .str.rstrip(\"\\t\")\n",
    "    .str.split(r\"\\t+\", expand=True) # One column per variable.\n",
    "    .reset_index()\n",
    "    # Indicate actual column values.\n",
    "    .rename(columns = {\n",
    "        \"index\": \"frame\",\n",
    "        0: \"id\",\n",
    "        1: \"color\",\n",
    "        2: \"roi_id\",\n",
    "        3: \"track_id\",\n",
    "        4: \"roi_polygon\",\n",
    "        5: \"center\",\n",
    "        6: \"axis\",\n",
    "        7: \"GFP\",\n",
    "        8: \"DsRed\",\n",
    "        9: \"dead\",\n",
    "        10: \"previous_frame\",\n",
    "        11: \"next_frame\",\n",
    "        12: \"mother_id\"\n",
    "    })\n",
    "    # Transfrom shape-strings columns into geometries.\n",
    "    .assign(\n",
    "        roi_polygon=lambda df: df.roi_polygon.apply(ast.literal_eval).apply(geometry.Polygon),\n",
    "        center=lambda df: df.center.apply(ast.literal_eval).apply(geometry.Point),\n",
    "        axis=lambda df: df.axis.apply(ast.literal_eval).apply(geometry.LineString)\n",
    "    )\n",
    "    # Swap coordinates since napari and ImageJ has inverted axes.\n",
    "    .assign(\n",
    "         roi_polygon=lambda df: df.roi_polygon.apply(\n",
    "            lambda polygon: shapely.ops.transform(lambda x, y: (y, x), polygon)\n",
    "        )\n",
    "    )\n",
    ")\n",
    "\n",
    "tracked_cells_df.head(1)"
   ]
  },
  {
   "cell_type": "code",
   "execution_count": 8,
   "metadata": {},
   "outputs": [
    {
     "output_type": "execute_result",
     "data": {
      "text/plain": [
       "<shapely.geometry.polygon.Polygon at 0x15aa10820>"
      ],
      "image/svg+xml": "<svg xmlns=\"http://www.w3.org/2000/svg\" xmlns:xlink=\"http://www.w3.org/1999/xlink\" width=\"100.0\" height=\"100.0\" viewBox=\"385.24 222.24 47.51999999999998 27.519999999999982\" preserveAspectRatio=\"xMinYMin meet\"><g transform=\"matrix(1,0,0,-1,0,472.0)\"><path fill-rule=\"evenodd\" fill=\"#66cc99\" stroke=\"#555555\" stroke-width=\"0.9503999999999997\" opacity=\"0.6\" d=\"M 410.0,238.0 L 410.0,239.0 L 411.0,239.0 L 411.0,240.0 L 413.0,240.0 L 413.0,241.0 L 415.0,241.0 L 415.0,242.0 L 417.0,242.0 L 417.0,243.0 L 420.0,243.0 L 420.0,244.0 L 421.0,244.0 L 421.0,243.0 L 423.0,243.0 L 423.0,244.0 L 424.0,244.0 L 424.0,245.0 L 426.0,245.0 L 426.0,246.0 L 427.0,246.0 L 427.0,247.0 L 428.0,247.0 L 428.0,248.0 L 430.0,248.0 L 430.0,247.0 L 431.0,247.0 L 431.0,245.0 L 430.0,245.0 L 430.0,244.0 L 429.0,244.0 L 429.0,243.0 L 428.0,243.0 L 428.0,242.0 L 427.0,242.0 L 427.0,241.0 L 425.0,241.0 L 425.0,240.0 L 424.0,240.0 L 424.0,239.0 L 423.0,239.0 L 423.0,238.0 L 422.0,238.0 L 422.0,237.0 L 421.0,237.0 L 421.0,236.0 L 420.0,236.0 L 420.0,235.0 L 419.0,235.0 L 419.0,234.0 L 417.0,234.0 L 417.0,233.0 L 416.0,233.0 L 416.0,231.0 L 414.0,231.0 L 414.0,228.0 L 413.0,228.0 L 413.0,229.0 L 412.0,229.0 L 412.0,230.0 L 410.0,230.0 L 410.0,231.0 L 407.0,231.0 L 407.0,230.0 L 404.0,230.0 L 404.0,229.0 L 401.0,229.0 L 401.0,227.0 L 400.0,227.0 L 400.0,226.0 L 398.0,226.0 L 398.0,225.0 L 392.0,225.0 L 392.0,224.0 L 388.0,224.0 L 388.0,226.0 L 387.0,226.0 L 387.0,227.0 L 388.0,227.0 L 388.0,228.0 L 389.0,228.0 L 389.0,229.0 L 390.0,229.0 L 390.0,230.0 L 392.0,230.0 L 392.0,231.0 L 394.0,231.0 L 394.0,232.0 L 395.0,232.0 L 395.0,233.0 L 399.0,233.0 L 399.0,234.0 L 402.0,234.0 L 402.0,235.0 L 403.0,235.0 L 403.0,236.0 L 406.0,236.0 L 406.0,237.0 L 408.0,237.0 L 408.0,238.0 L 410.0,238.0 z\" /></g></svg>"
     },
     "metadata": {},
     "execution_count": 8
    }
   ],
   "source": [
    "tracked_cells_df.roi_polygon.to_list()[0]"
   ]
  }
 ]
}