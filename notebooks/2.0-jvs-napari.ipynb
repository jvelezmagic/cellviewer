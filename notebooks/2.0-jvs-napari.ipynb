{
 "metadata": {
  "language_info": {
   "codemirror_mode": {
    "name": "ipython",
    "version": 3
   },
   "file_extension": ".py",
   "mimetype": "text/x-python",
   "name": "python",
   "nbconvert_exporter": "python",
   "pygments_lexer": "ipython3",
   "version": "3.9.1-final"
  },
  "orig_nbformat": 2,
  "kernelspec": {
   "name": "python3",
   "display_name": "Python 3.9.1 64-bit ('cellviewer': conda)",
   "metadata": {
    "interpreter": {
     "hash": "908796f9dfa83e5ca6aeb3ab49d2cf89c7d7a9cb3d411a8df12acf29dfd5eee1"
    }
   }
  }
 },
 "nbformat": 4,
 "nbformat_minor": 2,
 "cells": [
  {
   "source": [
    "# 2.0 Napari"
   ],
   "cell_type": "markdown",
   "metadata": {}
  },
  {
   "source": [
    "## Simple setup"
   ],
   "cell_type": "markdown",
   "metadata": {}
  },
  {
   "source": [
    "To use the `src` module inside of the notebooks:"
   ],
   "cell_type": "markdown",
   "metadata": {}
  },
  {
   "cell_type": "code",
   "execution_count": 1,
   "metadata": {},
   "outputs": [],
   "source": [
    "%load_ext autoreload\n",
    "%autoreload 2"
   ]
  },
  {
   "source": [
    "## Imports"
   ],
   "cell_type": "markdown",
   "metadata": {}
  },
  {
   "cell_type": "code",
   "execution_count": 2,
   "metadata": {},
   "outputs": [],
   "source": [
    "import ast\n",
    "import napari\n",
    "import src # Load custom functions.\n",
    "import shapely\n",
    "import shapely.ops\n",
    "\n",
    "import numpy as np\n",
    "import pandas as pd\n",
    "import shapely.geometry as geometry\n",
    "\n",
    "from collections import OrderedDict\n",
    "from dask_image.imread import imread\n",
    "from skimage.measure import label"
   ]
  },
  {
   "source": [
    "## Initalize an empty Napari Viewer"
   ],
   "cell_type": "markdown",
   "metadata": {}
  },
  {
   "cell_type": "code",
   "execution_count": 3,
   "metadata": {},
   "outputs": [],
   "source": [
    "%gui qt5\n",
    "viewer = napari.Viewer()"
   ]
  },
  {
   "source": [
    "## Display channels"
   ],
   "cell_type": "markdown",
   "metadata": {}
  },
  {
   "cell_type": "code",
   "execution_count": 4,
   "metadata": {},
   "outputs": [
    {
     "output_type": "execute_result",
     "data": {
      "text/plain": [
       "OrderedDict([('GFP_mask', {'colormap': 'cyan'}),\n",
       "             ('GFP', {'colormap': 'green'}),\n",
       "             ('DsRed', {'colormap': 'red'})])"
      ]
     },
     "metadata": {},
     "execution_count": 4
    }
   ],
   "source": [
    "display_specification = OrderedDict(\n",
    "    GFP_mask = dict(colormap=\"cyan\"),\n",
    "    GFP = dict(colormap=\"green\"),\n",
    "    DsRed = dict(colormap=\"red\"),\n",
    "    # DIC = dict(colormap=\"gray\", visible=True, opacity=0.2),\n",
    ") \n",
    "display_specification"
   ]
  },
  {
   "cell_type": "code",
   "execution_count": 5,
   "metadata": {},
   "outputs": [
    {
     "output_type": "execute_result",
     "data": {
      "text/plain": [
       "{'DsRed': dask.array<_map_read_frame, shape=(25, 512, 640), dtype=uint16, chunksize=(1, 512, 640), chunktype=numpy.ndarray>,\n",
       " 'GFP_mask': dask.array<_map_read_frame, shape=(25, 512, 640), dtype=uint8, chunksize=(1, 512, 640), chunktype=numpy.ndarray>,\n",
       " 'GFP': dask.array<_map_read_frame, shape=(25, 512, 640), dtype=uint16, chunksize=(1, 512, 640), chunktype=numpy.ndarray>}"
      ]
     },
     "metadata": {},
     "execution_count": 5
    }
   ],
   "source": [
    "channels_stacks = {\n",
    "    path.stem: imread(path.joinpath(\"*.tif\"))\n",
    "    for path in src.data_dir(\"sample\", \"tif\", \"xy02\").glob(\"*\")\n",
    "    if path.is_dir() and path.stem in display_specification\n",
    "}\n",
    "channels_stacks"
   ]
  },
  {
   "cell_type": "code",
   "execution_count": 6,
   "metadata": {},
   "outputs": [],
   "source": [
    "%gui qt5\n",
    "\n",
    "for name in reversed(display_specification):\n",
    "    viewer.add_image(\n",
    "        data=channels_stacks[name],\n",
    "        name=name,\n",
    "        blending=\"additive\",\n",
    "        contrast_limits=[0, 2000],\n",
    "        multiscale=False,\n",
    "        **display_specification[name]\n",
    "    )"
   ]
  },
  {
   "cell_type": "code",
   "execution_count": 7,
   "metadata": {},
   "outputs": [
    {
     "output_type": "execute_result",
     "data": {
      "text/plain": [
       "<Labels layer 'labels' at 0x1577c2190>"
      ]
     },
     "metadata": {},
     "execution_count": 7
    }
   ],
   "source": [
    "%gui qt5\n",
    "viewer.add_labels(\n",
    "        data=channels_stacks[\"GFP_mask\"].map_blocks(label).compute(),\n",
    "        name=\"labels\",\n",
    "        blending=\"additive\"\n",
    ")"
   ]
  },
  {
   "source": [
    "## Read and transform roi's pickle files."
   ],
   "cell_type": "markdown",
   "metadata": {}
  },
  {
   "cell_type": "code",
   "execution_count": 8,
   "metadata": {},
   "outputs": [
    {
     "output_type": "execute_result",
     "data": {
      "text/plain": [
       "   frame    id    color                roi_id track_id  \\\n",
       "0      0  20.0  #abcdcd  roi_f20_n0_x234_y409       []   \n",
       "\n",
       "                                         roi_polygon  \\\n",
       "0  POLYGON ((410 238, 410 239, 411 239, 411 240, ...   \n",
       "\n",
       "                                        center  \\\n",
       "0  POINT (233.6920667302324 410.6278959176846)   \n",
       "\n",
       "                                                axis    GFP   DsRed dead  \\\n",
       "0  LINESTRING (246.9999999999999 430.683093054870...  587.0  98.795    0   \n",
       "\n",
       "  previous_frame next_frame mother_id  \\\n",
       "0             []         []        []   \n",
       "\n",
       "                                      napari_polygon  \n",
       "0  [[0.0, 410.0, 238.0], [0.0, 410.0, 239.0], [0....  "
      ],
      "text/html": "<div>\n<style scoped>\n    .dataframe tbody tr th:only-of-type {\n        vertical-align: middle;\n    }\n\n    .dataframe tbody tr th {\n        vertical-align: top;\n    }\n\n    .dataframe thead th {\n        text-align: right;\n    }\n</style>\n<table border=\"1\" class=\"dataframe\">\n  <thead>\n    <tr style=\"text-align: right;\">\n      <th></th>\n      <th>frame</th>\n      <th>id</th>\n      <th>color</th>\n      <th>roi_id</th>\n      <th>track_id</th>\n      <th>roi_polygon</th>\n      <th>center</th>\n      <th>axis</th>\n      <th>GFP</th>\n      <th>DsRed</th>\n      <th>dead</th>\n      <th>previous_frame</th>\n      <th>next_frame</th>\n      <th>mother_id</th>\n      <th>napari_polygon</th>\n    </tr>\n  </thead>\n  <tbody>\n    <tr>\n      <th>0</th>\n      <td>0</td>\n      <td>20.0</td>\n      <td>#abcdcd</td>\n      <td>roi_f20_n0_x234_y409</td>\n      <td>[]</td>\n      <td>POLYGON ((410 238, 410 239, 411 239, 411 240, ...</td>\n      <td>POINT (233.6920667302324 410.6278959176846)</td>\n      <td>LINESTRING (246.9999999999999 430.683093054870...</td>\n      <td>587.0</td>\n      <td>98.795</td>\n      <td>0</td>\n      <td>[]</td>\n      <td>[]</td>\n      <td>[]</td>\n      <td>[[0.0, 410.0, 238.0], [0.0, 410.0, 239.0], [0....</td>\n    </tr>\n  </tbody>\n</table>\n</div>"
     },
     "metadata": {},
     "execution_count": 8
    }
   ],
   "source": [
    "roi_files = sorted(\n",
    "    src.data_dir(\"sample\", \"data_cells_tracked\", \"xy02\", \"normData\").glob(\"*.pkl\")\n",
    ")\n",
    "\n",
    "tracked_cells_df = (\n",
    "    # Read pickle files into a single data frame.\n",
    "    pd.DataFrame(\n",
    "        dict(\n",
    "            list_str_cells = [pd.read_pickle(file) for file in roi_files]\n",
    "        )\n",
    "    )\n",
    "    # Each observation is a list of strings.\n",
    "    # Convertet to long format.\n",
    "    .explode(column=\"list_str_cells\")\n",
    "    # Each string is a set of variables delimited by tab.\n",
    "    .list_str_cells\n",
    "    .str.rstrip(\"\\t\")\n",
    "    .str.split(r\"\\t+\", expand=True) # One column per variable.\n",
    "    .reset_index()\n",
    "    # Indicate actual column values.\n",
    "    .rename(columns = {\n",
    "        \"index\": \"frame\",\n",
    "        0: \"id\",\n",
    "        1: \"color\",\n",
    "        2: \"roi_id\",\n",
    "        3: \"track_id\",\n",
    "        4: \"roi_polygon\",\n",
    "        5: \"center\",\n",
    "        6: \"axis\",\n",
    "        7: \"GFP\",\n",
    "        8: \"DsRed\",\n",
    "        9: \"dead\",\n",
    "        10: \"previous_frame\",\n",
    "        11: \"next_frame\",\n",
    "        12: \"mother_id\"\n",
    "    })\n",
    "    # Transfrom shape-strings columns into geometries.\n",
    "    .assign(\n",
    "        roi_polygon=lambda df: df.roi_polygon.apply(ast.literal_eval).apply(geometry.Polygon),\n",
    "        center=lambda df: df.center.apply(ast.literal_eval).apply(geometry.Point),\n",
    "        axis=lambda df: df.axis.apply(ast.literal_eval).apply(geometry.LineString)\n",
    "    )\n",
    "    # Swap coordinates since napari and ImageJ has inverted axes.\n",
    "    .assign(\n",
    "        roi_polygon=lambda df: df.roi_polygon.apply(\n",
    "            lambda polygon: shapely.ops.transform(lambda x, y: (y, x), polygon)\n",
    "        )\n",
    "    )\n",
    "    # Transform polygons to fit napari conditions.\n",
    "    .assign(\n",
    "        napari_polygon=lambda df: df.apply(\n",
    "            lambda df_row: np.array([[df_row.frame, x, y] for (x, y) in df_row.roi_polygon.exterior.coords]), \n",
    "            axis=1)\n",
    "    )\n",
    ")\n",
    "\n",
    "tracked_cells_df.head(1)"
   ]
  },
  {
   "source": [
    "tracked_cells_df.roi_polygon.to_list()[0]"
   ],
   "cell_type": "code",
   "metadata": {},
   "execution_count": 9,
   "outputs": [
    {
     "output_type": "execute_result",
     "data": {
      "text/plain": [
       "<shapely.geometry.polygon.Polygon at 0x157c9f670>"
      ],
      "image/svg+xml": "<svg xmlns=\"http://www.w3.org/2000/svg\" xmlns:xlink=\"http://www.w3.org/1999/xlink\" width=\"100.0\" height=\"100.0\" viewBox=\"385.24 222.24 47.51999999999998 27.519999999999982\" preserveAspectRatio=\"xMinYMin meet\"><g transform=\"matrix(1,0,0,-1,0,472.0)\"><path fill-rule=\"evenodd\" fill=\"#66cc99\" stroke=\"#555555\" stroke-width=\"0.9503999999999997\" opacity=\"0.6\" d=\"M 410.0,238.0 L 410.0,239.0 L 411.0,239.0 L 411.0,240.0 L 413.0,240.0 L 413.0,241.0 L 415.0,241.0 L 415.0,242.0 L 417.0,242.0 L 417.0,243.0 L 420.0,243.0 L 420.0,244.0 L 421.0,244.0 L 421.0,243.0 L 423.0,243.0 L 423.0,244.0 L 424.0,244.0 L 424.0,245.0 L 426.0,245.0 L 426.0,246.0 L 427.0,246.0 L 427.0,247.0 L 428.0,247.0 L 428.0,248.0 L 430.0,248.0 L 430.0,247.0 L 431.0,247.0 L 431.0,245.0 L 430.0,245.0 L 430.0,244.0 L 429.0,244.0 L 429.0,243.0 L 428.0,243.0 L 428.0,242.0 L 427.0,242.0 L 427.0,241.0 L 425.0,241.0 L 425.0,240.0 L 424.0,240.0 L 424.0,239.0 L 423.0,239.0 L 423.0,238.0 L 422.0,238.0 L 422.0,237.0 L 421.0,237.0 L 421.0,236.0 L 420.0,236.0 L 420.0,235.0 L 419.0,235.0 L 419.0,234.0 L 417.0,234.0 L 417.0,233.0 L 416.0,233.0 L 416.0,231.0 L 414.0,231.0 L 414.0,228.0 L 413.0,228.0 L 413.0,229.0 L 412.0,229.0 L 412.0,230.0 L 410.0,230.0 L 410.0,231.0 L 407.0,231.0 L 407.0,230.0 L 404.0,230.0 L 404.0,229.0 L 401.0,229.0 L 401.0,227.0 L 400.0,227.0 L 400.0,226.0 L 398.0,226.0 L 398.0,225.0 L 392.0,225.0 L 392.0,224.0 L 388.0,224.0 L 388.0,226.0 L 387.0,226.0 L 387.0,227.0 L 388.0,227.0 L 388.0,228.0 L 389.0,228.0 L 389.0,229.0 L 390.0,229.0 L 390.0,230.0 L 392.0,230.0 L 392.0,231.0 L 394.0,231.0 L 394.0,232.0 L 395.0,232.0 L 395.0,233.0 L 399.0,233.0 L 399.0,234.0 L 402.0,234.0 L 402.0,235.0 L 403.0,235.0 L 403.0,236.0 L 406.0,236.0 L 406.0,237.0 L 408.0,237.0 L 408.0,238.0 L 410.0,238.0 z\" /></g></svg>"
     },
     "metadata": {},
     "execution_count": 9
    }
   ]
  },
  {
   "source": [
    "## Include cells shapes into viewer"
   ],
   "cell_type": "markdown",
   "metadata": {}
  },
  {
   "cell_type": "code",
   "execution_count": 10,
   "metadata": {},
   "outputs": [],
   "source": [
    "# %gui qt5\n",
    "\n",
    "# n = 100\n",
    "# sub_df = tracked_cells_df[0:n]\n",
    "# properties = sub_df[[\"id\", \"roi_id\", \"GFP\", \"DsRed\", \"dead\", \"previous_frame\", \"next_frame\"]].to_dict(orient=\"list\")\n",
    "\n",
    "# viewer.add_shapes(\n",
    "#     data=sub_df.napari_polygon,\n",
    "#     metadata=properties,\n",
    "#     text=\"{roi_id}\",\n",
    "#     shape_type=\"polygon\",\n",
    "#     name=\"rois\"\n",
    "# )"
   ]
  },
  {
   "cell_type": "code",
   "execution_count": 36,
   "metadata": {},
   "outputs": [
    {
     "output_type": "execute_result",
     "data": {
      "text/plain": [
       "array([0.000e+00, 1.000e+00, 2.000e+00, ..., 4.357e+03, 4.358e+03,\n",
       "       4.359e+03])"
      ]
     },
     "metadata": {},
     "execution_count": 36
    }
   ],
   "source": [
    "from skimage.measure import grid_points_in_poly\n",
    "\n",
    "images_shape = channels_stacks[\"GFP_mask\"].shape[1:]\n",
    "np.unique(ord_enc.fit_transform(tracked_cells_df[[\"roi_id\"]]))"
   ]
  },
  {
   "cell_type": "code",
   "execution_count": 32,
   "metadata": {},
   "outputs": [
    {
     "output_type": "error",
     "ename": "ValueError",
     "evalue": "Expected 2D array, got 1D array instead:\narray=['roi_f20_n0_x234_y409' 'roi_f20_n1_x286_y383' 'roi_f20_n2_x374_y417' ...\n 'roi_f44_n126_x177_y359' 'roi_f44_n127_x173_y308'\n 'roi_f44_n128_x184_y262'].\nReshape your data either using array.reshape(-1, 1) if your data has a single feature or array.reshape(1, -1) if it contains a single sample.",
     "traceback": [
      "\u001b[0;31m---------------------------------------------------------------------------\u001b[0m",
      "\u001b[0;31mValueError\u001b[0m                                Traceback (most recent call last)",
      "\u001b[0;32m<ipython-input-32-06ec8cd6d948>\u001b[0m in \u001b[0;36m<module>\u001b[0;34m\u001b[0m\n\u001b[1;32m      1\u001b[0m (\n\u001b[0;32m----> 2\u001b[0;31m     \u001b[0mtracked_cells_df\u001b[0m\u001b[0;34m\u001b[0m\u001b[0;34m\u001b[0m\u001b[0m\n\u001b[0m\u001b[1;32m      3\u001b[0m     \u001b[0;34m.\u001b[0m\u001b[0mselect_columns\u001b[0m\u001b[0;34m(\u001b[0m\u001b[0;34m[\u001b[0m\u001b[0;34m\"frame\"\u001b[0m\u001b[0;34m,\u001b[0m \u001b[0;34m\"roi_id\"\u001b[0m\u001b[0;34m,\u001b[0m \u001b[0;34m\"roi_polygon\"\u001b[0m\u001b[0;34m]\u001b[0m\u001b[0;34m)\u001b[0m\u001b[0;34m\u001b[0m\u001b[0;34m\u001b[0m\u001b[0m\n\u001b[1;32m      4\u001b[0m     \u001b[0;34m.\u001b[0m\u001b[0massign\u001b[0m\u001b[0;34m(\u001b[0m\u001b[0mroi_id\u001b[0m \u001b[0;34m=\u001b[0m \u001b[0;32mlambda\u001b[0m \u001b[0mdf\u001b[0m\u001b[0;34m:\u001b[0m \u001b[0mord_enc\u001b[0m\u001b[0;34m.\u001b[0m\u001b[0mfit_transform\u001b[0m\u001b[0;34m(\u001b[0m\u001b[0mdf\u001b[0m\u001b[0;34m.\u001b[0m\u001b[0mroi_id\u001b[0m\u001b[0;34m)\u001b[0m\u001b[0;34m)\u001b[0m\u001b[0;34m\u001b[0m\u001b[0;34m\u001b[0m\u001b[0m\n\u001b[1;32m      5\u001b[0m     \u001b[0;34m.\u001b[0m\u001b[0mgroupby\u001b[0m\u001b[0;34m(\u001b[0m\u001b[0;34m[\u001b[0m\u001b[0;34m\"roi_id\"\u001b[0m\u001b[0;34m]\u001b[0m\u001b[0;34m)\u001b[0m\u001b[0;34m\u001b[0m\u001b[0;34m\u001b[0m\u001b[0m\n",
      "\u001b[0;32m/opt/anaconda3/envs/cellviewer/lib/python3.9/site-packages/pandas/core/frame.py\u001b[0m in \u001b[0;36massign\u001b[0;34m(self, **kwargs)\u001b[0m\n\u001b[1;32m   3825\u001b[0m \u001b[0;34m\u001b[0m\u001b[0m\n\u001b[1;32m   3826\u001b[0m         \u001b[0;32mfor\u001b[0m \u001b[0mk\u001b[0m\u001b[0;34m,\u001b[0m \u001b[0mv\u001b[0m \u001b[0;32min\u001b[0m \u001b[0mkwargs\u001b[0m\u001b[0;34m.\u001b[0m\u001b[0mitems\u001b[0m\u001b[0;34m(\u001b[0m\u001b[0;34m)\u001b[0m\u001b[0;34m:\u001b[0m\u001b[0;34m\u001b[0m\u001b[0;34m\u001b[0m\u001b[0m\n\u001b[0;32m-> 3827\u001b[0;31m             \u001b[0mdata\u001b[0m\u001b[0;34m[\u001b[0m\u001b[0mk\u001b[0m\u001b[0;34m]\u001b[0m \u001b[0;34m=\u001b[0m \u001b[0mcom\u001b[0m\u001b[0;34m.\u001b[0m\u001b[0mapply_if_callable\u001b[0m\u001b[0;34m(\u001b[0m\u001b[0mv\u001b[0m\u001b[0;34m,\u001b[0m \u001b[0mdata\u001b[0m\u001b[0;34m)\u001b[0m\u001b[0;34m\u001b[0m\u001b[0;34m\u001b[0m\u001b[0m\n\u001b[0m\u001b[1;32m   3828\u001b[0m         \u001b[0;32mreturn\u001b[0m \u001b[0mdata\u001b[0m\u001b[0;34m\u001b[0m\u001b[0;34m\u001b[0m\u001b[0m\n\u001b[1;32m   3829\u001b[0m \u001b[0;34m\u001b[0m\u001b[0m\n",
      "\u001b[0;32m/opt/anaconda3/envs/cellviewer/lib/python3.9/site-packages/pandas/core/common.py\u001b[0m in \u001b[0;36mapply_if_callable\u001b[0;34m(maybe_callable, obj, **kwargs)\u001b[0m\n\u001b[1;32m    327\u001b[0m     \"\"\"\n\u001b[1;32m    328\u001b[0m     \u001b[0;32mif\u001b[0m \u001b[0mcallable\u001b[0m\u001b[0;34m(\u001b[0m\u001b[0mmaybe_callable\u001b[0m\u001b[0;34m)\u001b[0m\u001b[0;34m:\u001b[0m\u001b[0;34m\u001b[0m\u001b[0;34m\u001b[0m\u001b[0m\n\u001b[0;32m--> 329\u001b[0;31m         \u001b[0;32mreturn\u001b[0m \u001b[0mmaybe_callable\u001b[0m\u001b[0;34m(\u001b[0m\u001b[0mobj\u001b[0m\u001b[0;34m,\u001b[0m \u001b[0;34m**\u001b[0m\u001b[0mkwargs\u001b[0m\u001b[0;34m)\u001b[0m\u001b[0;34m\u001b[0m\u001b[0;34m\u001b[0m\u001b[0m\n\u001b[0m\u001b[1;32m    330\u001b[0m \u001b[0;34m\u001b[0m\u001b[0m\n\u001b[1;32m    331\u001b[0m     \u001b[0;32mreturn\u001b[0m \u001b[0mmaybe_callable\u001b[0m\u001b[0;34m\u001b[0m\u001b[0;34m\u001b[0m\u001b[0m\n",
      "\u001b[0;32m<ipython-input-32-06ec8cd6d948>\u001b[0m in \u001b[0;36m<lambda>\u001b[0;34m(df)\u001b[0m\n\u001b[1;32m      2\u001b[0m     \u001b[0mtracked_cells_df\u001b[0m\u001b[0;34m\u001b[0m\u001b[0;34m\u001b[0m\u001b[0m\n\u001b[1;32m      3\u001b[0m     \u001b[0;34m.\u001b[0m\u001b[0mselect_columns\u001b[0m\u001b[0;34m(\u001b[0m\u001b[0;34m[\u001b[0m\u001b[0;34m\"frame\"\u001b[0m\u001b[0;34m,\u001b[0m \u001b[0;34m\"roi_id\"\u001b[0m\u001b[0;34m,\u001b[0m \u001b[0;34m\"roi_polygon\"\u001b[0m\u001b[0;34m]\u001b[0m\u001b[0;34m)\u001b[0m\u001b[0;34m\u001b[0m\u001b[0;34m\u001b[0m\u001b[0m\n\u001b[0;32m----> 4\u001b[0;31m     \u001b[0;34m.\u001b[0m\u001b[0massign\u001b[0m\u001b[0;34m(\u001b[0m\u001b[0mroi_id\u001b[0m \u001b[0;34m=\u001b[0m \u001b[0;32mlambda\u001b[0m \u001b[0mdf\u001b[0m\u001b[0;34m:\u001b[0m \u001b[0mord_enc\u001b[0m\u001b[0;34m.\u001b[0m\u001b[0mfit_transform\u001b[0m\u001b[0;34m(\u001b[0m\u001b[0mdf\u001b[0m\u001b[0;34m.\u001b[0m\u001b[0mroi_id\u001b[0m\u001b[0;34m)\u001b[0m\u001b[0;34m)\u001b[0m\u001b[0;34m\u001b[0m\u001b[0;34m\u001b[0m\u001b[0m\n\u001b[0m\u001b[1;32m      5\u001b[0m     \u001b[0;34m.\u001b[0m\u001b[0mgroupby\u001b[0m\u001b[0;34m(\u001b[0m\u001b[0;34m[\u001b[0m\u001b[0;34m\"roi_id\"\u001b[0m\u001b[0;34m]\u001b[0m\u001b[0;34m)\u001b[0m\u001b[0;34m\u001b[0m\u001b[0;34m\u001b[0m\u001b[0m\n\u001b[1;32m      6\u001b[0m     \u001b[0;34m.\u001b[0m\u001b[0msize\u001b[0m\u001b[0;34m(\u001b[0m\u001b[0;34m)\u001b[0m\u001b[0;34m\u001b[0m\u001b[0;34m\u001b[0m\u001b[0m\n",
      "\u001b[0;32m/opt/anaconda3/envs/cellviewer/lib/python3.9/site-packages/sklearn/base.py\u001b[0m in \u001b[0;36mfit_transform\u001b[0;34m(self, X, y, **fit_params)\u001b[0m\n\u001b[1;32m    697\u001b[0m         \u001b[0;32mif\u001b[0m \u001b[0my\u001b[0m \u001b[0;32mis\u001b[0m \u001b[0;32mNone\u001b[0m\u001b[0;34m:\u001b[0m\u001b[0;34m\u001b[0m\u001b[0;34m\u001b[0m\u001b[0m\n\u001b[1;32m    698\u001b[0m             \u001b[0;31m# fit method of arity 1 (unsupervised transformation)\u001b[0m\u001b[0;34m\u001b[0m\u001b[0;34m\u001b[0m\u001b[0;34m\u001b[0m\u001b[0m\n\u001b[0;32m--> 699\u001b[0;31m             \u001b[0;32mreturn\u001b[0m \u001b[0mself\u001b[0m\u001b[0;34m.\u001b[0m\u001b[0mfit\u001b[0m\u001b[0;34m(\u001b[0m\u001b[0mX\u001b[0m\u001b[0;34m,\u001b[0m \u001b[0;34m**\u001b[0m\u001b[0mfit_params\u001b[0m\u001b[0;34m)\u001b[0m\u001b[0;34m.\u001b[0m\u001b[0mtransform\u001b[0m\u001b[0;34m(\u001b[0m\u001b[0mX\u001b[0m\u001b[0;34m)\u001b[0m\u001b[0;34m\u001b[0m\u001b[0;34m\u001b[0m\u001b[0m\n\u001b[0m\u001b[1;32m    700\u001b[0m         \u001b[0;32melse\u001b[0m\u001b[0;34m:\u001b[0m\u001b[0;34m\u001b[0m\u001b[0;34m\u001b[0m\u001b[0m\n\u001b[1;32m    701\u001b[0m             \u001b[0;31m# fit method of arity 2 (supervised transformation)\u001b[0m\u001b[0;34m\u001b[0m\u001b[0;34m\u001b[0m\u001b[0;34m\u001b[0m\u001b[0m\n",
      "\u001b[0;32m/opt/anaconda3/envs/cellviewer/lib/python3.9/site-packages/sklearn/preprocessing/_encoders.py\u001b[0m in \u001b[0;36mfit\u001b[0;34m(self, X, y)\u001b[0m\n\u001b[1;32m    759\u001b[0m                             f\"got {self.unknown_value}.\")\n\u001b[1;32m    760\u001b[0m \u001b[0;34m\u001b[0m\u001b[0m\n\u001b[0;32m--> 761\u001b[0;31m         \u001b[0mself\u001b[0m\u001b[0;34m.\u001b[0m\u001b[0m_fit\u001b[0m\u001b[0;34m(\u001b[0m\u001b[0mX\u001b[0m\u001b[0;34m)\u001b[0m\u001b[0;34m\u001b[0m\u001b[0;34m\u001b[0m\u001b[0m\n\u001b[0m\u001b[1;32m    762\u001b[0m \u001b[0;34m\u001b[0m\u001b[0m\n\u001b[1;32m    763\u001b[0m         \u001b[0;32mif\u001b[0m \u001b[0mself\u001b[0m\u001b[0;34m.\u001b[0m\u001b[0mhandle_unknown\u001b[0m \u001b[0;34m==\u001b[0m \u001b[0;34m'use_encoded_value'\u001b[0m\u001b[0;34m:\u001b[0m\u001b[0;34m\u001b[0m\u001b[0;34m\u001b[0m\u001b[0m\n",
      "\u001b[0;32m/opt/anaconda3/envs/cellviewer/lib/python3.9/site-packages/sklearn/preprocessing/_encoders.py\u001b[0m in \u001b[0;36m_fit\u001b[0;34m(self, X, handle_unknown, force_all_finite)\u001b[0m\n\u001b[1;32m     75\u001b[0m \u001b[0;34m\u001b[0m\u001b[0m\n\u001b[1;32m     76\u001b[0m     \u001b[0;32mdef\u001b[0m \u001b[0m_fit\u001b[0m\u001b[0;34m(\u001b[0m\u001b[0mself\u001b[0m\u001b[0;34m,\u001b[0m \u001b[0mX\u001b[0m\u001b[0;34m,\u001b[0m \u001b[0mhandle_unknown\u001b[0m\u001b[0;34m=\u001b[0m\u001b[0;34m'error'\u001b[0m\u001b[0;34m,\u001b[0m \u001b[0mforce_all_finite\u001b[0m\u001b[0;34m=\u001b[0m\u001b[0;32mTrue\u001b[0m\u001b[0;34m)\u001b[0m\u001b[0;34m:\u001b[0m\u001b[0;34m\u001b[0m\u001b[0;34m\u001b[0m\u001b[0m\n\u001b[0;32m---> 77\u001b[0;31m         X_list, n_samples, n_features = self._check_X(\n\u001b[0m\u001b[1;32m     78\u001b[0m             X, force_all_finite=force_all_finite)\n\u001b[1;32m     79\u001b[0m \u001b[0;34m\u001b[0m\u001b[0m\n",
      "\u001b[0;32m/opt/anaconda3/envs/cellviewer/lib/python3.9/site-packages/sklearn/preprocessing/_encoders.py\u001b[0m in \u001b[0;36m_check_X\u001b[0;34m(self, X, force_all_finite)\u001b[0m\n\u001b[1;32m     42\u001b[0m         \u001b[0;32mif\u001b[0m \u001b[0;32mnot\u001b[0m \u001b[0;34m(\u001b[0m\u001b[0mhasattr\u001b[0m\u001b[0;34m(\u001b[0m\u001b[0mX\u001b[0m\u001b[0;34m,\u001b[0m \u001b[0;34m'iloc'\u001b[0m\u001b[0;34m)\u001b[0m \u001b[0;32mand\u001b[0m \u001b[0mgetattr\u001b[0m\u001b[0;34m(\u001b[0m\u001b[0mX\u001b[0m\u001b[0;34m,\u001b[0m \u001b[0;34m'ndim'\u001b[0m\u001b[0;34m,\u001b[0m \u001b[0;36m0\u001b[0m\u001b[0;34m)\u001b[0m \u001b[0;34m==\u001b[0m \u001b[0;36m2\u001b[0m\u001b[0;34m)\u001b[0m\u001b[0;34m:\u001b[0m\u001b[0;34m\u001b[0m\u001b[0;34m\u001b[0m\u001b[0m\n\u001b[1;32m     43\u001b[0m             \u001b[0;31m# if not a dataframe, do normal check_array validation\u001b[0m\u001b[0;34m\u001b[0m\u001b[0;34m\u001b[0m\u001b[0;34m\u001b[0m\u001b[0m\n\u001b[0;32m---> 44\u001b[0;31m             X_temp = check_array(X, dtype=None,\n\u001b[0m\u001b[1;32m     45\u001b[0m                                  force_all_finite=force_all_finite)\n\u001b[1;32m     46\u001b[0m             if (not hasattr(X, 'dtype')\n",
      "\u001b[0;32m/opt/anaconda3/envs/cellviewer/lib/python3.9/site-packages/sklearn/utils/validation.py\u001b[0m in \u001b[0;36minner_f\u001b[0;34m(*args, **kwargs)\u001b[0m\n\u001b[1;32m     61\u001b[0m             \u001b[0mextra_args\u001b[0m \u001b[0;34m=\u001b[0m \u001b[0mlen\u001b[0m\u001b[0;34m(\u001b[0m\u001b[0margs\u001b[0m\u001b[0;34m)\u001b[0m \u001b[0;34m-\u001b[0m \u001b[0mlen\u001b[0m\u001b[0;34m(\u001b[0m\u001b[0mall_args\u001b[0m\u001b[0;34m)\u001b[0m\u001b[0;34m\u001b[0m\u001b[0;34m\u001b[0m\u001b[0m\n\u001b[1;32m     62\u001b[0m             \u001b[0;32mif\u001b[0m \u001b[0mextra_args\u001b[0m \u001b[0;34m<=\u001b[0m \u001b[0;36m0\u001b[0m\u001b[0;34m:\u001b[0m\u001b[0;34m\u001b[0m\u001b[0;34m\u001b[0m\u001b[0m\n\u001b[0;32m---> 63\u001b[0;31m                 \u001b[0;32mreturn\u001b[0m \u001b[0mf\u001b[0m\u001b[0;34m(\u001b[0m\u001b[0;34m*\u001b[0m\u001b[0margs\u001b[0m\u001b[0;34m,\u001b[0m \u001b[0;34m**\u001b[0m\u001b[0mkwargs\u001b[0m\u001b[0;34m)\u001b[0m\u001b[0;34m\u001b[0m\u001b[0;34m\u001b[0m\u001b[0m\n\u001b[0m\u001b[1;32m     64\u001b[0m \u001b[0;34m\u001b[0m\u001b[0m\n\u001b[1;32m     65\u001b[0m             \u001b[0;31m# extra_args > 0\u001b[0m\u001b[0;34m\u001b[0m\u001b[0;34m\u001b[0m\u001b[0;34m\u001b[0m\u001b[0m\n",
      "\u001b[0;32m/opt/anaconda3/envs/cellviewer/lib/python3.9/site-packages/sklearn/utils/validation.py\u001b[0m in \u001b[0;36mcheck_array\u001b[0;34m(array, accept_sparse, accept_large_sparse, dtype, order, copy, force_all_finite, ensure_2d, allow_nd, ensure_min_samples, ensure_min_features, estimator)\u001b[0m\n\u001b[1;32m    635\u001b[0m             \u001b[0;31m# If input is 1D raise error\u001b[0m\u001b[0;34m\u001b[0m\u001b[0;34m\u001b[0m\u001b[0;34m\u001b[0m\u001b[0m\n\u001b[1;32m    636\u001b[0m             \u001b[0;32mif\u001b[0m \u001b[0marray\u001b[0m\u001b[0;34m.\u001b[0m\u001b[0mndim\u001b[0m \u001b[0;34m==\u001b[0m \u001b[0;36m1\u001b[0m\u001b[0;34m:\u001b[0m\u001b[0;34m\u001b[0m\u001b[0;34m\u001b[0m\u001b[0m\n\u001b[0;32m--> 637\u001b[0;31m                 raise ValueError(\n\u001b[0m\u001b[1;32m    638\u001b[0m                     \u001b[0;34m\"Expected 2D array, got 1D array instead:\\narray={}.\\n\"\u001b[0m\u001b[0;34m\u001b[0m\u001b[0;34m\u001b[0m\u001b[0m\n\u001b[1;32m    639\u001b[0m                     \u001b[0;34m\"Reshape your data either using array.reshape(-1, 1) if \"\u001b[0m\u001b[0;34m\u001b[0m\u001b[0;34m\u001b[0m\u001b[0m\n",
      "\u001b[0;31mValueError\u001b[0m: Expected 2D array, got 1D array instead:\narray=['roi_f20_n0_x234_y409' 'roi_f20_n1_x286_y383' 'roi_f20_n2_x374_y417' ...\n 'roi_f44_n126_x177_y359' 'roi_f44_n127_x173_y308'\n 'roi_f44_n128_x184_y262'].\nReshape your data either using array.reshape(-1, 1) if your data has a single feature or array.reshape(1, -1) if it contains a single sample."
     ]
    }
   ],
   "source": [
    "(\n",
    "    tracked_cells_df\n",
    "    .select_columns([\"frame\", \"roi_id\", \"roi_polygon\"])\n",
    "    .assign(roi_id = lambda df: ord_enc.fit_transform(df.roi_id))\n",
    "    .groupby([\"roi_id\"])\n",
    "    .size()\n",
    "    .reset_index(name=\"n\")\n",
    "    #.assign(roi_polygon = lambda df: df.roi_polygon.apply(lambda polygon: grid_points_in_poly(images_shape, np.array(polygon.exterior.coords)).shape))\n",
    ")"
   ]
  },
  {
   "cell_type": "code",
   "execution_count": 31,
   "metadata": {},
   "outputs": [],
   "source": [
    "from sklearn.preprocessing import OrdinalEncoder\n",
    "\n",
    "ord_enc = OrdinalEncoder()"
   ]
  },
  {
   "cell_type": "code",
   "execution_count": 19,
   "metadata": {},
   "outputs": [
    {
     "output_type": "execute_result",
     "data": {
      "text/plain": [
       "      frame                  roi_id roi_polygon\n",
       "0         0    roi_f20_n0_x234_y409  (512, 640)\n",
       "1         0    roi_f20_n1_x286_y383  (512, 640)\n",
       "2         0    roi_f20_n2_x374_y417  (512, 640)\n",
       "3         0    roi_f20_n3_x399_y407  (512, 640)\n",
       "4         0    roi_f20_n4_x244_y386  (512, 640)\n",
       "...     ...                     ...         ...\n",
       "4355     24   roi_f44_n124_x226_y75  (512, 640)\n",
       "4356     24   roi_f44_n125_x214_y55  (512, 640)\n",
       "4357     24  roi_f44_n126_x177_y359  (512, 640)\n",
       "4358     24  roi_f44_n127_x173_y308  (512, 640)\n",
       "4359     24  roi_f44_n128_x184_y262  (512, 640)\n",
       "\n",
       "[4360 rows x 3 columns]"
      ],
      "text/html": "<div>\n<style scoped>\n    .dataframe tbody tr th:only-of-type {\n        vertical-align: middle;\n    }\n\n    .dataframe tbody tr th {\n        vertical-align: top;\n    }\n\n    .dataframe thead th {\n        text-align: right;\n    }\n</style>\n<table border=\"1\" class=\"dataframe\">\n  <thead>\n    <tr style=\"text-align: right;\">\n      <th></th>\n      <th>frame</th>\n      <th>roi_id</th>\n      <th>roi_polygon</th>\n    </tr>\n  </thead>\n  <tbody>\n    <tr>\n      <th>0</th>\n      <td>0</td>\n      <td>roi_f20_n0_x234_y409</td>\n      <td>(512, 640)</td>\n    </tr>\n    <tr>\n      <th>1</th>\n      <td>0</td>\n      <td>roi_f20_n1_x286_y383</td>\n      <td>(512, 640)</td>\n    </tr>\n    <tr>\n      <th>2</th>\n      <td>0</td>\n      <td>roi_f20_n2_x374_y417</td>\n      <td>(512, 640)</td>\n    </tr>\n    <tr>\n      <th>3</th>\n      <td>0</td>\n      <td>roi_f20_n3_x399_y407</td>\n      <td>(512, 640)</td>\n    </tr>\n    <tr>\n      <th>4</th>\n      <td>0</td>\n      <td>roi_f20_n4_x244_y386</td>\n      <td>(512, 640)</td>\n    </tr>\n    <tr>\n      <th>...</th>\n      <td>...</td>\n      <td>...</td>\n      <td>...</td>\n    </tr>\n    <tr>\n      <th>4355</th>\n      <td>24</td>\n      <td>roi_f44_n124_x226_y75</td>\n      <td>(512, 640)</td>\n    </tr>\n    <tr>\n      <th>4356</th>\n      <td>24</td>\n      <td>roi_f44_n125_x214_y55</td>\n      <td>(512, 640)</td>\n    </tr>\n    <tr>\n      <th>4357</th>\n      <td>24</td>\n      <td>roi_f44_n126_x177_y359</td>\n      <td>(512, 640)</td>\n    </tr>\n    <tr>\n      <th>4358</th>\n      <td>24</td>\n      <td>roi_f44_n127_x173_y308</td>\n      <td>(512, 640)</td>\n    </tr>\n    <tr>\n      <th>4359</th>\n      <td>24</td>\n      <td>roi_f44_n128_x184_y262</td>\n      <td>(512, 640)</td>\n    </tr>\n  </tbody>\n</table>\n<p>4360 rows × 3 columns</p>\n</div>"
     },
     "metadata": {},
     "execution_count": 19
    }
   ],
   "source": [
    "(\n",
    "    tracked_cells_df\n",
    "    .select_columns([\"frame\", \"roi_id\", \"roi_polygon\"])\n",
    "    .assign(roi_polygon = lambda df: df.roi_polygon.apply(lambda polygon: grid_points_in_poly(images_shape, np.array(polygon.exterior.coords)).shape))\n",
    ")"
   ]
  }
 ]
}