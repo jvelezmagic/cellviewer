{
 "metadata": {
  "language_info": {
   "codemirror_mode": {
    "name": "ipython",
    "version": 3
   },
   "file_extension": ".py",
   "mimetype": "text/x-python",
   "name": "python",
   "nbconvert_exporter": "python",
   "pygments_lexer": "ipython3",
   "version": "3.9.1-final"
  },
  "orig_nbformat": 2,
  "kernelspec": {
   "name": "python3",
   "display_name": "Python 3.9.1 64-bit ('cellviewer': conda)",
   "metadata": {
    "interpreter": {
     "hash": "908796f9dfa83e5ca6aeb3ab49d2cf89c7d7a9cb3d411a8df12acf29dfd5eee1"
    }
   }
  }
 },
 "nbformat": 4,
 "nbformat_minor": 2,
 "cells": [
  {
   "source": [
    "# 2.0 Napari"
   ],
   "cell_type": "markdown",
   "metadata": {}
  },
  {
   "source": [
    "## Simple setup"
   ],
   "cell_type": "markdown",
   "metadata": {}
  },
  {
   "source": [
    "To use the `src` module inside of the notebooks:"
   ],
   "cell_type": "markdown",
   "metadata": {}
  },
  {
   "cell_type": "code",
   "execution_count": 1,
   "metadata": {},
   "outputs": [],
   "source": [
    "%load_ext autoreload\n",
    "%autoreload 2"
   ]
  },
  {
   "source": [
    "## Imports"
   ],
   "cell_type": "markdown",
   "metadata": {}
  },
  {
   "cell_type": "code",
   "execution_count": 2,
   "metadata": {},
   "outputs": [],
   "source": [
    "import ast\n",
    "import napari\n",
    "import src # Load custom functions.\n",
    "import shapely\n",
    "import shapely.ops\n",
    "\n",
    "import numpy as np\n",
    "import pandas as pd\n",
    "import shapely.geometry as geometry\n",
    "\n",
    "from collections import OrderedDict\n",
    "from dask_image.imread import imread\n",
    "from skimage.measure import label"
   ]
  },
  {
   "source": [
    "## Initalize an empty Napari Viewer"
   ],
   "cell_type": "markdown",
   "metadata": {}
  },
  {
   "cell_type": "code",
   "execution_count": 3,
   "metadata": {},
   "outputs": [],
   "source": [
    "%gui qt5\n",
    "viewer = napari.Viewer()"
   ]
  },
  {
   "source": [
    "## Display channels"
   ],
   "cell_type": "markdown",
   "metadata": {}
  },
  {
   "cell_type": "code",
   "execution_count": 4,
   "metadata": {},
   "outputs": [
    {
     "output_type": "execute_result",
     "data": {
      "text/plain": [
       "OrderedDict([('GFP_mask', {'colormap': 'cyan'}),\n",
       "             ('GFP', {'colormap': 'green'}),\n",
       "             ('DsRed', {'colormap': 'red'})])"
      ]
     },
     "metadata": {},
     "execution_count": 4
    }
   ],
   "source": [
    "display_specification = OrderedDict(\n",
    "    GFP_mask = dict(colormap=\"cyan\"),\n",
    "    GFP = dict(colormap=\"green\"),\n",
    "    DsRed = dict(colormap=\"red\"),\n",
    "    # DIC = dict(colormap=\"gray\", visible=True, opacity=0.2),\n",
    ") \n",
    "display_specification"
   ]
  },
  {
   "cell_type": "code",
   "execution_count": 5,
   "metadata": {},
   "outputs": [
    {
     "output_type": "execute_result",
     "data": {
      "text/plain": [
       "{'DsRed': dask.array<_map_read_frame, shape=(25, 512, 640), dtype=uint16, chunksize=(1, 512, 640), chunktype=numpy.ndarray>,\n",
       " 'GFP_mask': dask.array<_map_read_frame, shape=(25, 512, 640), dtype=uint8, chunksize=(1, 512, 640), chunktype=numpy.ndarray>,\n",
       " 'GFP': dask.array<_map_read_frame, shape=(25, 512, 640), dtype=uint16, chunksize=(1, 512, 640), chunktype=numpy.ndarray>}"
      ]
     },
     "metadata": {},
     "execution_count": 5
    }
   ],
   "source": [
    "channels_stacks = {\n",
    "    path.stem: imread(path.joinpath(\"*.tif\"))\n",
    "    for path in src.data_dir(\"sample\", \"tif\", \"xy02\").glob(\"*\")\n",
    "    if path.is_dir() and path.stem in display_specification\n",
    "}\n",
    "channels_stacks"
   ]
  },
  {
   "cell_type": "code",
   "execution_count": 6,
   "metadata": {},
   "outputs": [],
   "source": [
    "%gui qt5\n",
    "\n",
    "for name in reversed(display_specification):\n",
    "    viewer.add_image(\n",
    "        data=channels_stacks[name],\n",
    "        name=name,\n",
    "        blending=\"additive\",\n",
    "        contrast_limits=[0, 2000],\n",
    "        multiscale=False,\n",
    "        **display_specification[name]\n",
    "    )"
   ]
  },
  {
   "cell_type": "code",
   "execution_count": 7,
   "metadata": {},
   "outputs": [
    {
     "output_type": "execute_result",
     "data": {
      "text/plain": [
       "<Labels layer 'labels' at 0x1060f5580>"
      ]
     },
     "metadata": {},
     "execution_count": 7
    }
   ],
   "source": [
    "%gui qt5\n",
    "viewer.add_labels(\n",
    "        data=channels_stacks[\"GFP_mask\"].map_blocks(label).compute(),\n",
    "        name=\"labels\",\n",
    "        blending=\"additive\"\n",
    ")"
   ]
  },
  {
   "source": [
    "## Read and transform roi's pickle files."
   ],
   "cell_type": "markdown",
   "metadata": {}
  },
  {
   "cell_type": "code",
   "execution_count": null,
   "metadata": {},
   "outputs": [],
   "source": [
    "roi_files = sorted(\n",
    "    src.data_dir(\"sample\", \"data_cells_tracked\", \"xy02\", \"normData\").glob(\"*.pkl\")\n",
    ")\n",
    "\n",
    "tracked_cells_df = (\n",
    "    # Read pickle files into a single data frame.\n",
    "    pd.DataFrame(\n",
    "        dict(\n",
    "            list_str_cells = [pd.read_pickle(file) for file in roi_files]\n",
    "        )\n",
    "    )\n",
    "    # Each observation is a list of strings.\n",
    "    # Convertet to long format.\n",
    "    .explode(column=\"list_str_cells\")\n",
    "    # Each string is a set of variables delimited by tab.\n",
    "    .list_str_cells\n",
    "    .str.rstrip(\"\\t\")\n",
    "    .str.split(r\"\\t+\", expand=True) # One column per variable.\n",
    "    .reset_index()\n",
    "    # Indicate actual column values.\n",
    "    .rename(columns = {\n",
    "        \"index\": \"frame\",\n",
    "        0: \"id\",\n",
    "        1: \"color\",\n",
    "        2: \"roi_id\",\n",
    "        3: \"track_id\",\n",
    "        4: \"roi_polygon\",\n",
    "        5: \"center\",\n",
    "        6: \"axis\",\n",
    "        7: \"GFP\",\n",
    "        8: \"DsRed\",\n",
    "        9: \"dead\",\n",
    "        10: \"previous_frame\",\n",
    "        11: \"next_frame\",\n",
    "        12: \"mother_id\"\n",
    "    })\n",
    "    # Transfrom shape-strings columns into geometries.\n",
    "    .assign(\n",
    "        roi_polygon=lambda df: df.roi_polygon.apply(ast.literal_eval).apply(geometry.Polygon),\n",
    "        center=lambda df: df.center.apply(ast.literal_eval).apply(geometry.Point),\n",
    "        axis=lambda df: df.axis.apply(ast.literal_eval).apply(geometry.LineString)\n",
    "    )\n",
    "    # Swap coordinates since napari and ImageJ has inverted axes.\n",
    "    .assign(\n",
    "        roi_polygon=lambda df: df.roi_polygon.apply(\n",
    "            lambda polygon: shapely.ops.transform(lambda x, y: (y, x), polygon)\n",
    "        )\n",
    "    )\n",
    "    # Transform polygons to fit napari conditions.\n",
    "    .assign(\n",
    "        napari_polygon=lambda df: df.apply(\n",
    "            lambda df_row: np.array([[df_row.frame, x, y] for (x, y) in df_row.roi_polygon.exterior.coords]), \n",
    "            axis=1)\n",
    "    )\n",
    ")\n",
    "\n",
    "tracked_cells_df.head(1)"
   ]
  },
  {
   "source": [
    "tracked_cells_df.roi_polygon.to_list()[0]"
   ],
   "cell_type": "code",
   "metadata": {},
   "execution_count": null,
   "outputs": []
  },
  {
   "source": [
    "## Include cells shapes into viewer"
   ],
   "cell_type": "markdown",
   "metadata": {}
  },
  {
   "cell_type": "code",
   "execution_count": null,
   "metadata": {},
   "outputs": [],
   "source": [
    "# %gui qt5\n",
    "\n",
    "# n = 100\n",
    "# sub_df = tracked_cells_df[0:n]\n",
    "# properties = sub_df[[\"id\", \"roi_id\", \"GFP\", \"DsRed\", \"dead\", \"previous_frame\", \"next_frame\"]].to_dict(orient=\"list\")\n",
    "\n",
    "# viewer.add_shapes(\n",
    "#     data=sub_df.napari_polygon,\n",
    "#     metadata=properties,\n",
    "#     text=\"{roi_id}\",\n",
    "#     shape_type=\"polygon\",\n",
    "#     name=\"rois\"\n",
    "# )"
   ]
  }
 ]
}