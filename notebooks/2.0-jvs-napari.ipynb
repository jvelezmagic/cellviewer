{
 "metadata": {
  "language_info": {
   "codemirror_mode": {
    "name": "ipython",
    "version": 3
   },
   "file_extension": ".py",
   "mimetype": "text/x-python",
   "name": "python",
   "nbconvert_exporter": "python",
   "pygments_lexer": "ipython3",
   "version": "3.9.1"
  },
  "orig_nbformat": 2,
  "kernelspec": {
   "name": "python3",
   "display_name": "Python 3.9.1 64-bit ('cellviewer': conda)",
   "metadata": {
    "interpreter": {
     "hash": "908796f9dfa83e5ca6aeb3ab49d2cf89c7d7a9cb3d411a8df12acf29dfd5eee1"
    }
   }
  }
 },
 "nbformat": 4,
 "nbformat_minor": 2,
 "cells": [
  {
   "source": [
    "# 2.0 Napari"
   ],
   "cell_type": "markdown",
   "metadata": {}
  },
  {
   "source": [
    "## Simple setup"
   ],
   "cell_type": "markdown",
   "metadata": {}
  },
  {
   "source": [
    "To use the `src` module inside of the notebooks:"
   ],
   "cell_type": "markdown",
   "metadata": {}
  },
  {
   "cell_type": "code",
   "execution_count": 1,
   "metadata": {},
   "outputs": [],
   "source": [
    "%load_ext autoreload\n",
    "%autoreload 2"
   ]
  },
  {
   "source": [
    "## Imports"
   ],
   "cell_type": "markdown",
   "metadata": {}
  },
  {
   "cell_type": "code",
   "execution_count": 2,
   "metadata": {},
   "outputs": [],
   "source": [
    "import napari\n",
    "import src # Load custom functions.\n",
    "\n",
    "from dask_image.imread import imread"
   ]
  },
  {
   "source": [
    "## Initalize an empty Napari Viewer"
   ],
   "cell_type": "markdown",
   "metadata": {}
  },
  {
   "cell_type": "code",
   "execution_count": 3,
   "metadata": {},
   "outputs": [],
   "source": [
    "%gui qt5\n",
    "viewer = napari.Viewer()"
   ]
  },
  {
   "source": [
    "## Display channels"
   ],
   "cell_type": "markdown",
   "metadata": {}
  },
  {
   "cell_type": "code",
   "execution_count": 4,
   "metadata": {},
   "outputs": [],
   "source": [
    "display_specification = dict(\n",
    "    # DIC = dict(colormap=\"gray\", visible=True, opacity=0.2),\n",
    "    DsRed = dict(colormap=\"red\"),\n",
    "    GFP = dict(colormap=\"green\")\n",
    ") "
   ]
  },
  {
   "cell_type": "code",
   "execution_count": 5,
   "metadata": {},
   "outputs": [
    {
     "output_type": "execute_result",
     "data": {
      "text/plain": [
       "{'DsRed': dask.array<_map_read_frame, shape=(25, 512, 640), dtype=uint16, chunksize=(1, 512, 640), chunktype=numpy.ndarray>,\n",
       " 'GFP': dask.array<_map_read_frame, shape=(25, 512, 640), dtype=uint16, chunksize=(1, 512, 640), chunktype=numpy.ndarray>}"
      ]
     },
     "metadata": {},
     "execution_count": 5
    }
   ],
   "source": [
    "channels_stacks = {\n",
    "    path.stem: imread(path.joinpath(\"*.tif\"))\n",
    "    for path in src.data_dir(\"sample\", \"tif\", \"xy02\").glob(\"*\")\n",
    "    if path.is_dir() and path.stem in display_specification\n",
    "}\n",
    "channels_stacks"
   ]
  },
  {
   "cell_type": "code",
   "execution_count": 6,
   "metadata": {},
   "outputs": [],
   "source": [
    "%gui qt5\n",
    "\n",
    "for name, stack in channels_stacks.items():\n",
    "     viewer.add_image(\n",
    "         stack, name=name,\n",
    "         blending=\"additive\",\n",
    "         contrast_limits=[0, 2000],\n",
    "         multiscale=False,\n",
    "         **display_specification[name]\n",
    "    )"
   ]
  }
 ]
}