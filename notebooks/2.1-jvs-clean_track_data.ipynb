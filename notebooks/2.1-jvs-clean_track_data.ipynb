{
 "cells": [
  {
   "cell_type": "markdown",
   "metadata": {},
   "source": [
    "## Simple set up"
   ]
  },
  {
   "cell_type": "code",
   "execution_count": 1,
   "metadata": {},
   "outputs": [],
   "source": [
    "%load_ext autoreload\n",
    "%autoreload 2"
   ]
  },
  {
   "cell_type": "markdown",
   "metadata": {},
   "source": [
    "## Imports"
   ]
  },
  {
   "cell_type": "code",
   "execution_count": 2,
   "metadata": {},
   "outputs": [],
   "source": [
    "import ast\n",
    "import janitor\n",
    "import numpy as np\n",
    "import pandas as pd\n",
    "import skimage.measure as measure\n",
    "import shapely.geometry as geometry\n",
    "import shapely.ops\n",
    "import src\n",
    "import matplotlib.pyplot as plt\n",
    "import napari"
   ]
  },
  {
   "cell_type": "markdown",
   "metadata": {},
   "source": [
    "## Load data"
   ]
  },
  {
   "cell_type": "code",
   "execution_count": 3,
   "metadata": {},
   "outputs": [
    {
     "data": {
      "text/html": [
       "<div>\n",
       "<style scoped>\n",
       "    .dataframe tbody tr th:only-of-type {\n",
       "        vertical-align: middle;\n",
       "    }\n",
       "\n",
       "    .dataframe tbody tr th {\n",
       "        vertical-align: top;\n",
       "    }\n",
       "\n",
       "    .dataframe thead th {\n",
       "        text-align: right;\n",
       "    }\n",
       "</style>\n",
       "<table border=\"1\" class=\"dataframe\">\n",
       "  <thead>\n",
       "    <tr style=\"text-align: right;\">\n",
       "      <th></th>\n",
       "      <th>frame</th>\n",
       "      <th>id</th>\n",
       "      <th>color</th>\n",
       "      <th>roi_id</th>\n",
       "      <th>track_id</th>\n",
       "      <th>roi_polygon</th>\n",
       "      <th>center</th>\n",
       "      <th>axis</th>\n",
       "      <th>previous_frame</th>\n",
       "      <th>next_frame</th>\n",
       "      <th>mother_id</th>\n",
       "      <th>napari_polygon</th>\n",
       "      <th>coords</th>\n",
       "    </tr>\n",
       "  </thead>\n",
       "  <tbody>\n",
       "    <tr>\n",
       "      <th>0</th>\n",
       "      <td>0</td>\n",
       "      <td>1</td>\n",
       "      <td>#abcdcd</td>\n",
       "      <td>roi_f20_n0_x234_y409</td>\n",
       "      <td>[]</td>\n",
       "      <td>POLYGON ((410 238, 410 239, 411 239, 411 240, ...</td>\n",
       "      <td>POINT (233.6920667302324 410.6278959176846)</td>\n",
       "      <td>LINESTRING (246.9999999999999 430.683093054870...</td>\n",
       "      <td>[]</td>\n",
       "      <td>[]</td>\n",
       "      <td>[]</td>\n",
       "      <td>[[0.0, 410.0, 238.0], [0.0, 410.0, 239.0], [0....</td>\n",
       "      <td>[[410.0, 238.0], [410.0, 239.0], [411.0, 239.0...</td>\n",
       "    </tr>\n",
       "  </tbody>\n",
       "</table>\n",
       "</div>"
      ],
      "text/plain": [
       "   frame  id    color                roi_id track_id  \\\n",
       "0      0   1  #abcdcd  roi_f20_n0_x234_y409       []   \n",
       "\n",
       "                                         roi_polygon  \\\n",
       "0  POLYGON ((410 238, 410 239, 411 239, 411 240, ...   \n",
       "\n",
       "                                        center  \\\n",
       "0  POINT (233.6920667302324 410.6278959176846)   \n",
       "\n",
       "                                                axis previous_frame  \\\n",
       "0  LINESTRING (246.9999999999999 430.683093054870...             []   \n",
       "\n",
       "  next_frame mother_id                                     napari_polygon  \\\n",
       "0         []        []  [[0.0, 410.0, 238.0], [0.0, 410.0, 239.0], [0....   \n",
       "\n",
       "                                              coords  \n",
       "0  [[410.0, 238.0], [410.0, 239.0], [411.0, 239.0...  "
      ]
     },
     "execution_count": 3,
     "metadata": {},
     "output_type": "execute_result"
    }
   ],
   "source": [
    "roi_files = sorted(\n",
    "    src.data_dir(\"sample\", \"data_cells_tracked\", \"xy02\", \"normData\").glob(\"*.pkl\")\n",
    ")\n",
    "\n",
    "tracked_cells_df = (\n",
    "    # Read pickle files into a single data frame.\n",
    "    pd.DataFrame(\n",
    "        dict(\n",
    "            list_str_cells = [pd.read_pickle(file) for file in roi_files]\n",
    "        )\n",
    "    )\n",
    "    # Each observation is a list of strings.\n",
    "    # Convertet to long format.\n",
    "    .explode(column=\"list_str_cells\")\n",
    "    # Each string is a set of variables delimited by tab.\n",
    "    .list_str_cells\n",
    "    .str.rstrip(\"\\t\")\n",
    "    .str.split(r\"\\t+\", expand=True) # One column per variable.\n",
    "    .reset_index()\n",
    "    # Indicate actual column values.\n",
    "    .rename(columns = {\n",
    "        \"index\": \"frame\",\n",
    "        0: \"id\",\n",
    "        1: \"color\",\n",
    "        2: \"roi_id\",\n",
    "        3: \"track_id\",\n",
    "        4: \"roi_polygon\",\n",
    "        5: \"center\",\n",
    "        6: \"axis\",\n",
    "        7: \"GFP\",\n",
    "        8: \"DsRed\",\n",
    "        9: \"dead\",\n",
    "        10: \"previous_frame\",\n",
    "        11: \"next_frame\",\n",
    "        12: \"mother_id\"\n",
    "    })\n",
    "    .select_columns([\"GFP\", \"DsRed\", \"dead\"], invert=True)\n",
    "    # Transfrom shape-strings columns into geometries.\n",
    "    .assign(\n",
    "        roi_polygon=lambda df: df.roi_polygon.apply(ast.literal_eval).apply(geometry.Polygon),\n",
    "        center=lambda df: df.center.apply(ast.literal_eval).apply(geometry.Point),\n",
    "        axis=lambda df: df.axis.apply(ast.literal_eval).apply(geometry.LineString)\n",
    "    )\n",
    "    # Swap coordinates since napari and ImageJ has inverted axes.\n",
    "    .assign(\n",
    "        roi_polygon=lambda df: df.roi_polygon.apply(\n",
    "            lambda polygon: shapely.ops.transform(lambda x, y: (y, x), polygon)\n",
    "        )\n",
    "    )\n",
    "    # Transform polygons to fit napari conditions.\n",
    "    .assign(\n",
    "        napari_polygon=lambda df: df.apply(\n",
    "            lambda df_row: np.array([[df_row.frame, x, y] for (x, y) in df_row.roi_polygon.exterior.coords]), \n",
    "            axis=1)\n",
    "    ).\n",
    "    assign(\n",
    "        id = lambda df: df.id.str.split(\".\").apply(lambda x: x[1]).astype(int) + 1,\n",
    "        coords = lambda df: df.roi_polygon.apply(lambda x: np.array(x.exterior.coords))\n",
    "    )\n",
    ")\n",
    "\n",
    "tracked_cells_df.head(1)"
   ]
  },
  {
   "cell_type": "code",
   "execution_count": 4,
   "metadata": {},
   "outputs": [],
   "source": [
    "from dask_image.imread import imread"
   ]
  },
  {
   "cell_type": "code",
   "execution_count": 5,
   "metadata": {},
   "outputs": [
    {
     "data": {
      "text/plain": [
       "{'GFP_mask': dask.array<concatenate, shape=(25, 512, 640), dtype=uint8, chunksize=(1, 512, 640), chunktype=numpy.ndarray>}"
      ]
     },
     "execution_count": 5,
     "metadata": {},
     "output_type": "execute_result"
    }
   ],
   "source": [
    "channels_stacks = {\n",
    "    path.stem: imread(path.joinpath(\"*.tif\").as_posix())\n",
    "    for path in src.data_dir(\"sample\", \"tif\", \"xy02\").glob(\"*\")\n",
    "    if path.is_dir() and path.stem == \"GFP_mask\"\n",
    "}\n",
    "channels_stacks"
   ]
  },
  {
   "cell_type": "code",
   "execution_count": 6,
   "metadata": {},
   "outputs": [
    {
     "data": {
      "text/plain": [
       "(512, 640)"
      ]
     },
     "execution_count": 6,
     "metadata": {},
     "output_type": "execute_result"
    }
   ],
   "source": [
    "gfp_mask = channels_stacks[\"GFP_mask\"].compute()\n",
    "matrix_shape = gfp_mask.shape[1:]\n",
    "matrix_shape"
   ]
  },
  {
   "cell_type": "code",
   "execution_count": 7,
   "metadata": {
    "tags": []
   },
   "outputs": [],
   "source": [
    "for row in tracked_cells_df.itertuples(index=False):\n",
    "    \n",
    "    mask = measure.grid_points_in_poly(matrix_shape, row.coords)\n",
    "    gfp_mask[row.frame, ][mask] = row.id"
   ]
  },
  {
   "cell_type": "code",
   "execution_count": 8,
   "metadata": {},
   "outputs": [],
   "source": [
    "def get_cmap(n, name='hsv'):\n",
    "    '''Returns a function that maps each index in 0, 1, ..., n-1 to a distinct \n",
    "    RGB color; the keyword argument name must be a standard mpl colormap name.'''\n",
    "    return plt.cm.get_cmap(name, n)"
   ]
  },
  {
   "cell_type": "code",
   "execution_count": 9,
   "metadata": {},
   "outputs": [],
   "source": [
    "cmap = get_cmap(tracked_cells_df.id.unique().shape[0])"
   ]
  },
  {
   "cell_type": "code",
   "execution_count": 10,
   "metadata": {},
   "outputs": [],
   "source": [
    "colors = {x+1: cmap(x) for x in range(tracked_cells_df.id.unique().shape[0])}\n",
    "colors = {}"
   ]
  },
  {
   "cell_type": "code",
   "execution_count": 11,
   "metadata": {},
   "outputs": [
    {
     "name": "stderr",
     "output_type": "stream",
     "text": [
      "/Users/jvelezmagic/opt/anaconda3/envs/cellviewer/lib/python3.9/site-packages/napari/_qt/qt_main_window.py:285: RuntimeWarning: The window geometry settings could not be loaded due to the following error: cannot unpack non-iterable NoneType object\n",
      "  self.show()\n"
     ]
    },
    {
     "data": {
      "text/plain": [
       "<Labels layer 'labels' at 0x17681e4c0>"
      ]
     },
     "execution_count": 11,
     "metadata": {},
     "output_type": "execute_result"
    }
   ],
   "source": [
    "%gui qt5\n",
    "viewer = napari.Viewer()\n",
    "viewer.add_labels(\n",
    "        data=gfp_mask,\n",
    "        color=colors,\n",
    "        name=\"labels\",\n",
    "        blending=\"additive\"\n",
    ")"
   ]
  }
 ],
 "metadata": {
  "kernelspec": {
   "display_name": "Python 3",
   "language": "python",
   "name": "python3"
  },
  "language_info": {
   "codemirror_mode": {
    "name": "ipython",
    "version": 3
   },
   "file_extension": ".py",
   "mimetype": "text/x-python",
   "name": "python",
   "nbconvert_exporter": "python",
   "pygments_lexer": "ipython3",
   "version": "3.9.1"
  }
 },
 "nbformat": 4,
 "nbformat_minor": 4
}
