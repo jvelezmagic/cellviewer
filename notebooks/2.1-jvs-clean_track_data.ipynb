{
 "metadata": {
  "language_info": {
   "codemirror_mode": {
    "name": "ipython",
    "version": 3
   },
   "file_extension": ".py",
   "mimetype": "text/x-python",
   "name": "python",
   "nbconvert_exporter": "python",
   "pygments_lexer": "ipython3",
   "version": "3.9.1-final"
  },
  "orig_nbformat": 2,
  "kernelspec": {
   "name": "python3",
   "display_name": "Python 3.9.1 64-bit ('cellviewer': conda)",
   "metadata": {
    "interpreter": {
     "hash": "908796f9dfa83e5ca6aeb3ab49d2cf89c7d7a9cb3d411a8df12acf29dfd5eee1"
    }
   }
  }
 },
 "nbformat": 4,
 "nbformat_minor": 2,
 "cells": [
  {
   "source": [
    "## Simple set up"
   ],
   "cell_type": "markdown",
   "metadata": {}
  },
  {
   "cell_type": "code",
   "execution_count": 1,
   "metadata": {},
   "outputs": [],
   "source": [
    "%load_ext autoreload\n",
    "%autoreload 2"
   ]
  },
  {
   "source": [
    "## Imports"
   ],
   "cell_type": "markdown",
   "metadata": {}
  },
  {
   "cell_type": "code",
   "execution_count": 2,
   "metadata": {},
   "outputs": [],
   "source": [
    "import ast\n",
    "import janitor\n",
    "import numpy as np\n",
    "import pandas as pd\n",
    "import skimage.measure as measure\n",
    "import shapely.geometry as geometry\n",
    "import shapely.ops\n",
    "import src\n",
    "import matplotlib.pyplot as plt\n",
    "import napari"
   ]
  },
  {
   "source": [
    "## Load data"
   ],
   "cell_type": "markdown",
   "metadata": {}
  },
  {
   "cell_type": "code",
   "execution_count": 3,
   "metadata": {},
   "outputs": [
    {
     "output_type": "execute_result",
     "data": {
      "text/plain": [
       "   frame  id    color                roi_id track_id  \\\n",
       "0      0   1  #abcdcd  roi_f20_n0_x234_y409       []   \n",
       "\n",
       "                                         roi_polygon  \\\n",
       "0  POLYGON ((410 238, 410 239, 411 239, 411 240, ...   \n",
       "\n",
       "                                        center  \\\n",
       "0  POINT (233.6920667302324 410.6278959176846)   \n",
       "\n",
       "                                                axis previous_frame  \\\n",
       "0  LINESTRING (246.9999999999999 430.683093054870...             []   \n",
       "\n",
       "  next_frame mother_id                                     napari_polygon  \\\n",
       "0         []        []  [[0.0, 410.0, 238.0], [0.0, 410.0, 239.0], [0....   \n",
       "\n",
       "                                              coords  \n",
       "0  [[410.0, 238.0], [410.0, 239.0], [411.0, 239.0...  "
      ],
      "text/html": "<div>\n<style scoped>\n    .dataframe tbody tr th:only-of-type {\n        vertical-align: middle;\n    }\n\n    .dataframe tbody tr th {\n        vertical-align: top;\n    }\n\n    .dataframe thead th {\n        text-align: right;\n    }\n</style>\n<table border=\"1\" class=\"dataframe\">\n  <thead>\n    <tr style=\"text-align: right;\">\n      <th></th>\n      <th>frame</th>\n      <th>id</th>\n      <th>color</th>\n      <th>roi_id</th>\n      <th>track_id</th>\n      <th>roi_polygon</th>\n      <th>center</th>\n      <th>axis</th>\n      <th>previous_frame</th>\n      <th>next_frame</th>\n      <th>mother_id</th>\n      <th>napari_polygon</th>\n      <th>coords</th>\n    </tr>\n  </thead>\n  <tbody>\n    <tr>\n      <th>0</th>\n      <td>0</td>\n      <td>1</td>\n      <td>#abcdcd</td>\n      <td>roi_f20_n0_x234_y409</td>\n      <td>[]</td>\n      <td>POLYGON ((410 238, 410 239, 411 239, 411 240, ...</td>\n      <td>POINT (233.6920667302324 410.6278959176846)</td>\n      <td>LINESTRING (246.9999999999999 430.683093054870...</td>\n      <td>[]</td>\n      <td>[]</td>\n      <td>[]</td>\n      <td>[[0.0, 410.0, 238.0], [0.0, 410.0, 239.0], [0....</td>\n      <td>[[410.0, 238.0], [410.0, 239.0], [411.0, 239.0...</td>\n    </tr>\n  </tbody>\n</table>\n</div>"
     },
     "metadata": {},
     "execution_count": 3
    }
   ],
   "source": [
    "roi_files = sorted(\n",
    "    src.data_dir(\"sample\", \"data_cells_tracked\", \"xy02\", \"normData\").glob(\"*.pkl\")\n",
    ")\n",
    "\n",
    "tracked_cells_df = (\n",
    "    # Read pickle files into a single data frame.\n",
    "    pd.DataFrame(\n",
    "        dict(\n",
    "            list_str_cells = [pd.read_pickle(file) for file in roi_files]\n",
    "        )\n",
    "    )\n",
    "    # Each observation is a list of strings.\n",
    "    # Convertet to long format.\n",
    "    .explode(column=\"list_str_cells\")\n",
    "    # Each string is a set of variables delimited by tab.\n",
    "    .list_str_cells\n",
    "    .str.rstrip(\"\\t\")\n",
    "    .str.split(r\"\\t+\", expand=True) # One column per variable.\n",
    "    .reset_index()\n",
    "    # Indicate actual column values.\n",
    "    .rename(columns = {\n",
    "        \"index\": \"frame\",\n",
    "        0: \"id\",\n",
    "        1: \"color\",\n",
    "        2: \"roi_id\",\n",
    "        3: \"track_id\",\n",
    "        4: \"roi_polygon\",\n",
    "        5: \"center\",\n",
    "        6: \"axis\",\n",
    "        7: \"GFP\",\n",
    "        8: \"DsRed\",\n",
    "        9: \"dead\",\n",
    "        10: \"previous_frame\",\n",
    "        11: \"next_frame\",\n",
    "        12: \"mother_id\"\n",
    "    })\n",
    "    .select_columns([\"GFP\", \"DsRed\", \"dead\"], invert=True)\n",
    "    # Transfrom shape-strings columns into geometries.\n",
    "    .assign(\n",
    "        roi_polygon=lambda df: df.roi_polygon.apply(ast.literal_eval).apply(geometry.Polygon),\n",
    "        center=lambda df: df.center.apply(ast.literal_eval).apply(geometry.Point),\n",
    "        axis=lambda df: df.axis.apply(ast.literal_eval).apply(geometry.LineString)\n",
    "    )\n",
    "    # Swap coordinates since napari and ImageJ has inverted axes.\n",
    "    .assign(\n",
    "        roi_polygon=lambda df: df.roi_polygon.apply(\n",
    "            lambda polygon: shapely.ops.transform(lambda x, y: (y, x), polygon)\n",
    "        )\n",
    "    )\n",
    "    # Transform polygons to fit napari conditions.\n",
    "    .assign(\n",
    "        napari_polygon=lambda df: df.apply(\n",
    "            lambda df_row: np.array([[df_row.frame, x, y] for (x, y) in df_row.roi_polygon.exterior.coords]), \n",
    "            axis=1)\n",
    "    ).\n",
    "    assign(\n",
    "        id = lambda df: df.id.str.split(\".\").apply(lambda x: x[1]).astype(int) + 1,\n",
    "        coords = lambda df: df.roi_polygon.apply(lambda x: np.array(x.exterior.coords))\n",
    "    )\n",
    ")\n",
    "\n",
    "tracked_cells_df.head(1)"
   ]
  },
  {
   "cell_type": "code",
   "execution_count": 4,
   "metadata": {},
   "outputs": [],
   "source": [
    "from dask_image.imread import imread"
   ]
  },
  {
   "cell_type": "code",
   "execution_count": 5,
   "metadata": {},
   "outputs": [
    {
     "output_type": "execute_result",
     "data": {
      "text/plain": [
       "{'GFP_mask': dask.array<_map_read_frame, shape=(25, 512, 640), dtype=uint8, chunksize=(1, 512, 640), chunktype=numpy.ndarray>}"
      ]
     },
     "metadata": {},
     "execution_count": 5
    }
   ],
   "source": [
    "channels_stacks = {\n",
    "    path.stem: imread(path.joinpath(\"*.tif\"))\n",
    "    for path in src.data_dir(\"sample\", \"tif\", \"xy02\").glob(\"*\")\n",
    "    if path.is_dir() and path.stem == \"GFP_mask\"\n",
    "}\n",
    "channels_stacks"
   ]
  },
  {
   "cell_type": "code",
   "execution_count": 6,
   "metadata": {},
   "outputs": [
    {
     "output_type": "execute_result",
     "data": {
      "text/plain": [
       "(512, 640)"
      ]
     },
     "metadata": {},
     "execution_count": 6
    }
   ],
   "source": [
    "gfp_mask = channels_stacks[\"GFP_mask\"].compute()\n",
    "matrix_shape = gfp_mask.shape[1:]\n",
    "matrix_shape"
   ]
  },
  {
   "cell_type": "code",
   "execution_count": 7,
   "metadata": {
    "tags": []
   },
   "outputs": [],
   "source": [
    "for row in tracked_cells_df.itertuples(index=False):\n",
    "    \n",
    "    mask = measure.grid_points_in_poly(matrix_shape, row.coords)\n",
    "    gfp_mask[row.frame, ][mask] = row.id"
   ]
  },
  {
   "cell_type": "code",
   "execution_count": 8,
   "metadata": {},
   "outputs": [],
   "source": [
    "def get_cmap(n, name='hsv'):\n",
    "    '''Returns a function that maps each index in 0, 1, ..., n-1 to a distinct \n",
    "    RGB color; the keyword argument name must be a standard mpl colormap name.'''\n",
    "    return plt.cm.get_cmap(name, n)"
   ]
  },
  {
   "cell_type": "code",
   "execution_count": 9,
   "metadata": {},
   "outputs": [],
   "source": [
    "cmap = get_cmap(tracked_cells_df.id.unique().shape[0])"
   ]
  },
  {
   "cell_type": "code",
   "execution_count": 14,
   "metadata": {},
   "outputs": [],
   "source": [
    "import random"
   ]
  },
  {
   "cell_type": "code",
   "execution_count": 34,
   "metadata": {},
   "outputs": [
    {
     "output_type": "execute_result",
     "data": {
      "text/plain": [
       "{'d': 4, 'b': 2, 'a': 1, 'c': 3}"
      ]
     },
     "metadata": {},
     "execution_count": 34
    }
   ],
   "source": [
    "import random"
   ]
  },
  {
   "cell_type": "code",
   "execution_count": 35,
   "metadata": {},
   "outputs": [
    {
     "output_type": "error",
     "ename": "TypeError",
     "evalue": "cannot convert dictionary update sequence element #0 to a sequence",
     "traceback": [
      "\u001b[0;31m---------------------------------------------------------------------------\u001b[0m",
      "\u001b[0;31mTypeError\u001b[0m                                 Traceback (most recent call last)",
      "\u001b[0;32m<ipython-input-35-0ed62d3f06c1>\u001b[0m in \u001b[0;36m<module>\u001b[0;34m\u001b[0m\n\u001b[1;32m      2\u001b[0m \u001b[0mrandom\u001b[0m\u001b[0;34m.\u001b[0m\u001b[0mseed\u001b[0m\u001b[0;34m(\u001b[0m\u001b[0;36m42\u001b[0m\u001b[0;34m)\u001b[0m\u001b[0;34m\u001b[0m\u001b[0;34m\u001b[0m\u001b[0m\n\u001b[1;32m      3\u001b[0m \u001b[0mrandom\u001b[0m\u001b[0;34m.\u001b[0m\u001b[0mshuffle\u001b[0m\u001b[0;34m(\u001b[0m\u001b[0mkeys\u001b[0m\u001b[0;34m)\u001b[0m\u001b[0;34m\u001b[0m\u001b[0;34m\u001b[0m\u001b[0m\n\u001b[0;32m----> 4\u001b[0;31m \u001b[0mdict\u001b[0m\u001b[0;34m(\u001b[0m\u001b[0mkeys\u001b[0m\u001b[0;34m)\u001b[0m\u001b[0;34m\u001b[0m\u001b[0;34m\u001b[0m\u001b[0m\n\u001b[0m",
      "\u001b[0;31mTypeError\u001b[0m: cannot convert dictionary update sequence element #0 to a sequence"
     ]
    }
   ],
   "source": [
    "keys = list(colors.keys())\n",
    "random.seed(42)\n",
    "random.shuffle(keys)\n",
    "dict(keys)"
   ]
  },
  {
   "cell_type": "code",
   "execution_count": 10,
   "metadata": {},
   "outputs": [],
   "source": [
    "colors = {x+1: cmap(x) for x in range(tracked_cells_df.id.unique().shape[0])}\n",
    "colors = {}"
   ]
  },
  {
   "cell_type": "code",
   "execution_count": 11,
   "metadata": {},
   "outputs": [
    {
     "output_type": "execute_result",
     "data": {
      "text/plain": [
       "<Labels layer 'labels' at 0x14276ec10>"
      ]
     },
     "metadata": {},
     "execution_count": 11
    }
   ],
   "source": [
    "%gui qt5\n",
    "viewer = napari.Viewer()\n",
    "viewer.add_labels(\n",
    "        data=gfp_mask,\n",
    "        color=colors,\n",
    "        name=\"labels\",\n",
    "        blending=\"additive\"\n",
    ")"
   ]
  },
  {
   "cell_type": "code",
   "execution_count": 12,
   "metadata": {},
   "outputs": [
    {
     "output_type": "execute_result",
     "data": {
      "text/plain": [
       "(array([  0,   1,   2,   3,   4,   5,   6,   7,   8,   9,  10,  11,  12,\n",
       "         13,  14,  15,  16,  17,  18,  19,  20,  21,  22,  23,  24,  25,\n",
       "         26,  27,  28,  29,  30,  31,  32,  33,  34,  35,  36,  37,  38,\n",
       "         39,  40,  41,  42,  43,  44,  45,  46,  47,  48,  49,  50,  51,\n",
       "         52,  53,  54,  55,  56,  57,  58,  59,  60,  61,  62,  63,  64,\n",
       "         65,  66,  67,  68,  69,  70,  71,  72,  73,  74,  75,  76,  77,\n",
       "         78,  79,  80,  81,  82,  83,  84,  85,  86,  87,  88,  89,  90,\n",
       "         91,  92,  93,  94,  95,  96,  97,  98,  99, 100, 101, 102, 103,\n",
       "        104, 105, 106, 107, 108, 109, 110, 111, 112, 113, 114, 115, 116,\n",
       "        117, 118, 119, 120, 121, 122, 123, 124, 125, 126, 127, 128, 129,\n",
       "        130, 131, 132, 133, 134, 135, 136, 137, 138, 139, 140, 141, 142,\n",
       "        143, 144, 145, 146, 147, 148, 149, 150, 151, 152, 153, 154, 155,\n",
       "        156, 157, 158, 159, 160, 161, 162, 163, 164, 165, 166, 167, 168,\n",
       "        169, 170, 171, 172], dtype=uint8),\n",
       " array([286753,    150,    182,    320,    270,    173,    297,    211,\n",
       "           216,    162,    212,    326,    209,    241,    371,    330,\n",
       "           172,    241,    587,    168,     81,    313,    148,    339,\n",
       "           271,    234,    259,     96,    119,    247,    234,    461,\n",
       "           247,    115,    328,    324,    122,    183,    291,    265,\n",
       "           290,    270,    174,    241,    258,    110,    212,    212,\n",
       "           264,    182,    462,    285,    256,    544,    525,    218,\n",
       "           302,    208,    167,    195,    366,    177,    196,    182,\n",
       "           200,    171,    198,    201,    291,    408,    202,    303,\n",
       "            99,    234,    338,    458,    182,    351,    248,    518,\n",
       "           179,    252,    198,    258,    230,    306,    164,    130,\n",
       "           327,    225,    207,    199,    256,    328,     95,    174,\n",
       "           222,    190,    196,    192,    343,    210,    174,    392,\n",
       "           116,    111,    198,    196,    168,    318,    142,    168,\n",
       "           155,    165,    209,    277,    191,    233,    177,    153,\n",
       "           244,    266,    168,    255,    142,    147,    154,    197,\n",
       "           182,    264,    169,    241,    308,    192,    560,    192,\n",
       "           303,    183,    416,    124,    135,    506,    200,    230,\n",
       "           168,    333,    226,    177,    188,    145,    182,    155,\n",
       "           231,    158,    260,    193,    253,    379,    230,    523,\n",
       "           272,    152,    196,    161,    277,    199,    171,    198,\n",
       "           475,    300,    137,     90,     83]))"
      ]
     },
     "metadata": {},
     "execution_count": 12
    }
   ],
   "source": [
    "np.unique(gfp_mask[7,], return_counts=True)"
   ]
  }
 ]
}