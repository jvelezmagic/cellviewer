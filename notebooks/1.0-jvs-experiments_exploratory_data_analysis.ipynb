{
 "metadata": {
  "language_info": {
   "codemirror_mode": {
    "name": "ipython",
    "version": 3
   },
   "file_extension": ".py",
   "mimetype": "text/x-python",
   "name": "python",
   "nbconvert_exporter": "python",
   "pygments_lexer": "ipython3",
   "version": "3.8.5-final"
  },
  "orig_nbformat": 2,
  "kernelspec": {
   "name": "python3",
   "display_name": "Python 3.8.5 64-bit ('cellviewer': conda)",
   "metadata": {
    "interpreter": {
     "hash": "908796f9dfa83e5ca6aeb3ab49d2cf89c7d7a9cb3d411a8df12acf29dfd5eee1"
    }
   }
  }
 },
 "nbformat": 4,
 "nbformat_minor": 2,
 "cells": [
  {
   "source": [
    "# Experiments Exploratory Data Analysis"
   ],
   "cell_type": "markdown",
   "metadata": {}
  },
  {
   "source": [
    "## Simple setup\n",
    "To use the `src` module inside of the notebooks:"
   ],
   "cell_type": "markdown",
   "metadata": {}
  },
  {
   "cell_type": "code",
   "execution_count": 1,
   "metadata": {},
   "outputs": [],
   "source": [
    "%load_ext autoreload\n",
    "%autoreload 2"
   ]
  },
  {
   "source": [
    "## Imports"
   ],
   "cell_type": "markdown",
   "metadata": {}
  },
  {
   "cell_type": "code",
   "execution_count": 2,
   "metadata": {},
   "outputs": [],
   "source": [
    "import janitor\n",
    "import pandas as pd\n",
    "import seaborn as sns\n",
    "\n",
    "import src # Load custom functions.\n",
    "sns.set_style(\"whitegrid\")"
   ]
  },
  {
   "source": [
    "## Load data"
   ],
   "cell_type": "markdown",
   "metadata": {}
  },
  {
   "cell_type": "code",
   "execution_count": 3,
   "metadata": {},
   "outputs": [
    {
     "output_type": "execute_result",
     "data": {
      "text/plain": [
       "['plasmid_lineages', 'chromosome_lineages']"
      ]
     },
     "metadata": {},
     "execution_count": 3
    }
   ],
   "source": [
    "experiment_files = list(src.data_raw_dir().rglob(\"*.zip\"))\n",
    "experiment_ids = list(map(lambda x: x.stem, experiment_files)); experiment_ids"
   ]
  },
  {
   "cell_type": "code",
   "execution_count": 12,
   "metadata": {},
   "outputs": [
    {
     "output_type": "execute_result",
     "data": {
      "text/plain": [
       "   lineage_id   track_id  cell_id  mother_id  frame                roi_id  \\\n",
       "0         0.0  10.8-34.0     10.8       10.8      0  roi_f10_n8_x129_y214   \n",
       "1         0.0  10.8-34.0     11.6       10.8      1  roi_f11_n6_x126_y216   \n",
       "2         0.0  10.8-34.0     12.8       10.8      2  roi_f12_n8_x122_y225   \n",
       "3         0.0  10.8-34.0     13.8       10.8      3  roi_f13_n8_x124_y224   \n",
       "4         0.0  10.8-34.0     14.5       10.8      4  roi_f14_n5_x124_y220   \n",
       "\n",
       "      length  division  dead      gfp    dsred  \\\n",
       "0  25.849682       0.0   0.0  120.110  108.394   \n",
       "1  41.415207       1.0   0.0  120.289  108.422   \n",
       "2  19.348009       0.0   0.0  119.765  107.959   \n",
       "3  26.301427       0.0   0.0  119.771  108.061   \n",
       "4  26.475045       0.0   0.0  119.718  107.977   \n",
       "\n",
       "                           file_name_id        experiment_id  \n",
       "0  MGGT-AMP-Pulse_xy01_lineages_all.csv  chromosome_lineages  \n",
       "1  MGGT-AMP-Pulse_xy01_lineages_all.csv  chromosome_lineages  \n",
       "2  MGGT-AMP-Pulse_xy01_lineages_all.csv  chromosome_lineages  \n",
       "3  MGGT-AMP-Pulse_xy01_lineages_all.csv  chromosome_lineages  \n",
       "4  MGGT-AMP-Pulse_xy01_lineages_all.csv  chromosome_lineages  "
      ],
      "text/html": "<div>\n<style scoped>\n    .dataframe tbody tr th:only-of-type {\n        vertical-align: middle;\n    }\n\n    .dataframe tbody tr th {\n        vertical-align: top;\n    }\n\n    .dataframe thead th {\n        text-align: right;\n    }\n</style>\n<table border=\"1\" class=\"dataframe\">\n  <thead>\n    <tr style=\"text-align: right;\">\n      <th></th>\n      <th>lineage_id</th>\n      <th>track_id</th>\n      <th>cell_id</th>\n      <th>mother_id</th>\n      <th>frame</th>\n      <th>roi_id</th>\n      <th>length</th>\n      <th>division</th>\n      <th>dead</th>\n      <th>gfp</th>\n      <th>dsred</th>\n      <th>file_name_id</th>\n      <th>experiment_id</th>\n    </tr>\n  </thead>\n  <tbody>\n    <tr>\n      <th>0</th>\n      <td>0.0</td>\n      <td>10.8-34.0</td>\n      <td>10.8</td>\n      <td>10.8</td>\n      <td>0</td>\n      <td>roi_f10_n8_x129_y214</td>\n      <td>25.849682</td>\n      <td>0.0</td>\n      <td>0.0</td>\n      <td>120.110</td>\n      <td>108.394</td>\n      <td>MGGT-AMP-Pulse_xy01_lineages_all.csv</td>\n      <td>chromosome_lineages</td>\n    </tr>\n    <tr>\n      <th>1</th>\n      <td>0.0</td>\n      <td>10.8-34.0</td>\n      <td>11.6</td>\n      <td>10.8</td>\n      <td>1</td>\n      <td>roi_f11_n6_x126_y216</td>\n      <td>41.415207</td>\n      <td>1.0</td>\n      <td>0.0</td>\n      <td>120.289</td>\n      <td>108.422</td>\n      <td>MGGT-AMP-Pulse_xy01_lineages_all.csv</td>\n      <td>chromosome_lineages</td>\n    </tr>\n    <tr>\n      <th>2</th>\n      <td>0.0</td>\n      <td>10.8-34.0</td>\n      <td>12.8</td>\n      <td>10.8</td>\n      <td>2</td>\n      <td>roi_f12_n8_x122_y225</td>\n      <td>19.348009</td>\n      <td>0.0</td>\n      <td>0.0</td>\n      <td>119.765</td>\n      <td>107.959</td>\n      <td>MGGT-AMP-Pulse_xy01_lineages_all.csv</td>\n      <td>chromosome_lineages</td>\n    </tr>\n    <tr>\n      <th>3</th>\n      <td>0.0</td>\n      <td>10.8-34.0</td>\n      <td>13.8</td>\n      <td>10.8</td>\n      <td>3</td>\n      <td>roi_f13_n8_x124_y224</td>\n      <td>26.301427</td>\n      <td>0.0</td>\n      <td>0.0</td>\n      <td>119.771</td>\n      <td>108.061</td>\n      <td>MGGT-AMP-Pulse_xy01_lineages_all.csv</td>\n      <td>chromosome_lineages</td>\n    </tr>\n    <tr>\n      <th>4</th>\n      <td>0.0</td>\n      <td>10.8-34.0</td>\n      <td>14.5</td>\n      <td>10.8</td>\n      <td>4</td>\n      <td>roi_f14_n5_x124_y220</td>\n      <td>26.475045</td>\n      <td>0.0</td>\n      <td>0.0</td>\n      <td>119.718</td>\n      <td>107.977</td>\n      <td>MGGT-AMP-Pulse_xy01_lineages_all.csv</td>\n      <td>chromosome_lineages</td>\n    </tr>\n  </tbody>\n</table>\n</div>"
     },
     "metadata": {},
     "execution_count": 12
    }
   ],
   "source": [
    "df = (\n",
    "    src.read_experiments(\n",
    "        experiment_files=experiment_files,\n",
    "        experiment_ids=experiment_ids\n",
    "    )\n",
    "    .clean_experiment_names()\n",
    "    .remove_columns(column_names=\"unnamed_0\")\n",
    "    .center_frames(by=\"experiment_id\", frame_col=\"frame\")\n",
    ")\n",
    "df.head()"
   ]
  },
  {
   "source": [
    "## Transform data"
   ],
   "cell_type": "markdown",
   "metadata": {}
  },
  {
   "cell_type": "code",
   "execution_count": null,
   "metadata": {},
   "outputs": [],
   "source": [
    "tidy_df = df.pivot_longer(column_names=[\"length\", \"gfp\", \"dsred\"])"
   ]
  },
  {
   "cell_type": "code",
   "execution_count": null,
   "metadata": {},
   "outputs": [],
   "source": [
    "g = (\n",
    "    sns.FacetGrid(\n",
    "        data=tidy_df,\n",
    "        row=\"variable\",\n",
    "        col=\"experiment_id\",\n",
    "        height=6,\n",
    "        aspect=1.0,\n",
    "        sharey=\"row\",\n",
    "        sharex=False\n",
    "    )\n",
    "    .map_dataframe(\n",
    "        func=sns.boxenplot,\n",
    "        x=\"frame\",\n",
    "        y=\"value\"\n",
    "    )\n",
    "    .set_axis_labels(\"Frame\", \"Value\")\n",
    "    .savefig(src.reports_figures_dir(\"population_time_overview_boxplot.pdf\"))\n",
    ")"
   ]
  }
 ]
}