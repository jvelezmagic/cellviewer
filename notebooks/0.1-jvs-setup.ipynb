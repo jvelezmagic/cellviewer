{
 "metadata": {
  "language_info": {
   "codemirror_mode": {
    "name": "ipython",
    "version": 3
   },
   "file_extension": ".py",
   "mimetype": "text/x-python",
   "name": "python",
   "nbconvert_exporter": "python",
   "pygments_lexer": "ipython3",
   "version": "3.9.1-final"
  },
  "orig_nbformat": 2,
  "kernelspec": {
   "name": "python3",
   "display_name": "Python 3.9.1 64-bit ('cellviewer': conda)",
   "metadata": {
    "interpreter": {
     "hash": "908796f9dfa83e5ca6aeb3ab49d2cf89c7d7a9cb3d411a8df12acf29dfd5eee1"
    }
   }
  }
 },
 "nbformat": 4,
 "nbformat_minor": 2,
 "cells": [
  {
   "source": [
    "# 0.1 Set up"
   ],
   "cell_type": "markdown",
   "metadata": {}
  },
  {
   "cell_type": "code",
   "execution_count": 1,
   "metadata": {},
   "outputs": [],
   "source": [
    "from pyhere import here"
   ]
  },
  {
   "source": [
    "## Set up project's module\n",
    "\n",
    "To move beyond notebook prototyping, all reusable code should go into the `src/`\n",
    "folder package. To use that package inside your project, install the project's\n",
    "module in editable mode, so you can edit files in the `src/` folder and use the\n",
    "modules inside your notebooks :\n",
    "\n"
   ],
   "cell_type": "markdown",
   "metadata": {}
  },
  {
   "cell_type": "code",
   "execution_count": 2,
   "metadata": {},
   "outputs": [],
   "source": [
    "!cd {here()}"
   ]
  },
  {
   "cell_type": "code",
   "execution_count": 3,
   "metadata": {},
   "outputs": [],
   "source": [
    "!pip install --quiet --editable {here()}"
   ]
  },
  {
   "source": [
    "## Set up Git diff for notebooks and lab"
   ],
   "cell_type": "markdown",
   "metadata": {}
  },
  {
   "cell_type": "code",
   "execution_count": 4,
   "metadata": {},
   "outputs": [],
   "source": [
    "!cd {here()}; nbdime config-git --enable"
   ]
  },
  {
   "cell_type": "code",
   "execution_count": 5,
   "metadata": {},
   "outputs": [
    {
     "output_type": "stream",
     "name": "stdout",
     "text": [
      "Enabling: nbdime\n",
      "- Writing config: /Users/jvelez/.jupyter\n",
      "    - Validating...\n",
      "      nbdime 2.1.0 \u001b[32mOK\u001b[0m\n",
      "Installing /opt/anaconda3/envs/cellviewer/lib/python3.9/site-packages/nbdime/notebook_ext -> nbdime\n",
      "Up to date: /usr/local/share/jupyter/nbextensions/nbdime/nbdime.yaml\n",
      "Up to date: /usr/local/share/jupyter/nbextensions/nbdime/index.js\n",
      "- Validating: \u001b[32mOK\u001b[0m\n",
      "\n",
      "    To initialize this nbextension in the browser every time the notebook (or other app) loads:\n",
      "    \n",
      "          jupyter nbextension enable nbdime --py\n",
      "    \n",
      "Enabling notebook extension nbdime/index...\n",
      "      - Validating: \u001b[32mOK\u001b[0m\n",
      "Building jupyterlab assets (build:prod:minimize)\n"
     ]
    }
   ],
   "source": [
    "!nbdime extensions --enable"
   ]
  },
  {
   "cell_type": "code",
   "execution_count": 6,
   "metadata": {},
   "outputs": [
    {
     "output_type": "stream",
     "name": "stdout",
     "text": [
      "[LabBuildApp] JupyterLab 2.2.6\n",
      "[LabBuildApp] Building in /opt/anaconda3/envs/cellviewer/share/jupyter/lab\n",
      "[LabBuildApp] Building jupyterlab assets (build:prod:minimize)\n"
     ]
    }
   ],
   "source": [
    "!jupyter lab build"
   ]
  }
 ]
}