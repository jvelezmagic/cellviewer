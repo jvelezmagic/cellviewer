{
 "cells": [
  {
   "cell_type": "markdown",
   "metadata": {},
   "source": [
    "# 0.1 Set up"
   ]
  },
  {
   "cell_type": "code",
   "execution_count": 1,
   "metadata": {},
   "outputs": [],
   "source": [
    "from pyhere import here"
   ]
  },
  {
   "cell_type": "markdown",
   "metadata": {},
   "source": [
    "## Set up project's module\n",
    "\n",
    "To move beyond notebook prototyping, all reusable code should go into the `src/`\n",
    "folder package. To use that package inside your project, install the project's\n",
    "module in editable mode, so you can edit files in the `src/` folder and use the\n",
    "modules inside your notebooks :\n",
    "\n"
   ]
  },
  {
   "cell_type": "code",
   "execution_count": 2,
   "metadata": {},
   "outputs": [],
   "source": [
    "!cd {here()}"
   ]
  },
  {
   "cell_type": "code",
   "execution_count": 3,
   "metadata": {},
   "outputs": [],
   "source": [
    "!pip install --quiet --editable {here()}"
   ]
  },
  {
   "cell_type": "markdown",
   "metadata": {},
   "source": [
    "## Set up Git diff for notebooks and lab"
   ]
  },
  {
   "cell_type": "code",
   "execution_count": 4,
   "metadata": {},
   "outputs": [],
   "source": [
    "!cd {here()}; nbdime config-git --enable"
   ]
  },
  {
   "cell_type": "code",
   "execution_count": 5,
   "metadata": {},
   "outputs": [
    {
     "name": "stdout",
     "output_type": "stream",
     "text": [
      "Enabling: nbdime\n",
      "- Writing config: /Users/jvelezmagic/.jupyter\n",
      "    - Validating...\n",
      "      nbdime 2.1.0 \u001b[32mOK\u001b[0m\n",
      "Installing /Users/jvelezmagic/opt/anaconda3/envs/cellviewer/lib/python3.9/site-packages/nbdime/notebook_ext -> nbdime\n",
      "Traceback (most recent call last):\n",
      "  File \"/Users/jvelezmagic/opt/anaconda3/envs/cellviewer/bin/jupyter-nbextension\", line 11, in <module>\n",
      "    sys.exit(main())\n",
      "  File \"/Users/jvelezmagic/opt/anaconda3/envs/cellviewer/lib/python3.9/site-packages/jupyter_core/application.py\", line 254, in launch_instance\n",
      "    return super(JupyterApp, cls).launch_instance(argv=argv, **kwargs)\n",
      "  File \"/Users/jvelezmagic/opt/anaconda3/envs/cellviewer/lib/python3.9/site-packages/traitlets/config/application.py\", line 845, in launch_instance\n",
      "    app.start()\n",
      "  File \"/Users/jvelezmagic/opt/anaconda3/envs/cellviewer/lib/python3.9/site-packages/notebook/nbextensions.py\", line 980, in start\n",
      "    super().start()\n",
      "  File \"/Users/jvelezmagic/opt/anaconda3/envs/cellviewer/lib/python3.9/site-packages/jupyter_core/application.py\", line 243, in start\n",
      "    self.subapp.start()\n",
      "  File \"/Users/jvelezmagic/opt/anaconda3/envs/cellviewer/lib/python3.9/site-packages/notebook/nbextensions.py\", line 708, in start\n",
      "    self.install_extensions()\n",
      "  File \"/Users/jvelezmagic/opt/anaconda3/envs/cellviewer/lib/python3.9/site-packages/notebook/nbextensions.py\", line 679, in install_extensions\n",
      "    full_dests = install(self.extra_args[0],\n",
      "  File \"/Users/jvelezmagic/opt/anaconda3/envs/cellviewer/lib/python3.9/site-packages/notebook/nbextensions.py\", line 214, in install_nbextension_python\n",
      "    full_dest = install_nbextension(\n",
      "  File \"/Users/jvelezmagic/opt/anaconda3/envs/cellviewer/lib/python3.9/site-packages/notebook/nbextensions.py\", line 118, in install_nbextension\n",
      "    ensure_dir_exists(nbext)\n",
      "  File \"/Users/jvelezmagic/opt/anaconda3/envs/cellviewer/lib/python3.9/site-packages/jupyter_core/utils/__init__.py\", line 11, in ensure_dir_exists\n",
      "    os.makedirs(path, mode=mode)\n",
      "  File \"/Users/jvelezmagic/opt/anaconda3/envs/cellviewer/lib/python3.9/os.py\", line 215, in makedirs\n",
      "    makedirs(head, exist_ok=exist_ok)\n",
      "  File \"/Users/jvelezmagic/opt/anaconda3/envs/cellviewer/lib/python3.9/os.py\", line 225, in makedirs\n",
      "    mkdir(name, mode)\n",
      "PermissionError: [Errno 13] Permission denied: '/usr/local/share/jupyter'\n",
      "Enabling notebook extension nbdime/index...\n",
      "      - Validating: \u001b[32mOK\u001b[0m\n",
      "Building jupyterlab assets (build:prod:minimize)\n"
     ]
    }
   ],
   "source": [
    "!nbdime extensions --enable"
   ]
  },
  {
   "cell_type": "code",
   "execution_count": 6,
   "metadata": {},
   "outputs": [
    {
     "name": "stdout",
     "output_type": "stream",
     "text": [
      "[LabBuildApp] JupyterLab 2.2.6\n",
      "[LabBuildApp] Building in /Users/jvelezmagic/opt/anaconda3/envs/cellviewer/share/jupyter/lab\n",
      "[LabBuildApp] Building jupyterlab assets (build:prod:minimize)\n"
     ]
    }
   ],
   "source": [
    "!jupyter lab build"
   ]
  }
 ],
 "metadata": {
  "kernelspec": {
   "display_name": "Python 3",
   "language": "python",
   "name": "python3"
  },
  "language_info": {
   "codemirror_mode": {
    "name": "ipython",
    "version": 3
   },
   "file_extension": ".py",
   "mimetype": "text/x-python",
   "name": "python",
   "nbconvert_exporter": "python",
   "pygments_lexer": "ipython3",
   "version": "3.9.1"
  }
 },
 "nbformat": 4,
 "nbformat_minor": 4
}
